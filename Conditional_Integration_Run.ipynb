{
  "cells": [
    {
      "cell_type": "markdown",
      "source": [
        "*********************************\n",
        "*********************************\n",
        "*********************************\n",
        "Running code for METABRIC dataset\n",
        "*********************************\n",
        "*********************************\n",
        "*********************************"
      ],
      "metadata": {
        "id": "vc5erOr1_ZDO"
      }
    },
    {
      "cell_type": "code",
      "execution_count": null,
      "metadata": {
        "id": "efSpCwY6qZ0u",
        "colab": {
          "base_uri": "https://localhost:8080/"
        },
        "outputId": "9a9895c0-e09b-44d2-c6c3-1dbf340a46a8"
      },
      "outputs": [
        {
          "output_type": "stream",
          "name": "stdout",
          "text": [
            "\u001b[1m11/11\u001b[0m \u001b[32m━━━━━━━━━━━━━━━━━━━━\u001b[0m\u001b[37m\u001b[0m \u001b[1m0s\u001b[0m 17ms/step\n",
            "\u001b[1m5/5\u001b[0m \u001b[32m━━━━━━━━━━━━━━━━━━━━\u001b[0m\u001b[37m\u001b[0m \u001b[1m0s\u001b[0m 8ms/step \n",
            "Latent space saved to CSV files.\n"
          ]
        },
        {
          "output_type": "stream",
          "name": "stderr",
          "text": [
            "/usr/local/lib/python3.11/dist-packages/keras/src/layers/core/dense.py:87: UserWarning: Do not pass an `input_shape`/`input_dim` argument to a layer. When using Sequential models, prefer using an `Input(shape)` object as the first layer in the model instead.\n",
            "  super().__init__(activity_regularizer=activity_regularizer, **kwargs)\n"
          ]
        },
        {
          "output_type": "stream",
          "name": "stdout",
          "text": [
            "\u001b[1m5/5\u001b[0m \u001b[32m━━━━━━━━━━━━━━━━━━━━\u001b[0m\u001b[37m\u001b[0m \u001b[1m0s\u001b[0m 17ms/step\n"
          ]
        },
        {
          "output_type": "stream",
          "name": "stderr",
          "text": [
            "/usr/local/lib/python3.11/dist-packages/sklearn/linear_model/_logistic.py:1247: FutureWarning: 'multi_class' was deprecated in version 1.5 and will be removed in 1.7. From then on, it will always use 'multinomial'. Leave it to its default value to avoid this warning.\n",
            "  warnings.warn(\n"
          ]
        },
        {
          "output_type": "stream",
          "name": "stdout",
          "text": [
            "\u001b[1m44/44\u001b[0m \u001b[32m━━━━━━━━━━━━━━━━━━━━\u001b[0m\u001b[37m\u001b[0m \u001b[1m0s\u001b[0m 7ms/step\n",
            "\u001b[1m19/19\u001b[0m \u001b[32m━━━━━━━━━━━━━━━━━━━━\u001b[0m\u001b[37m\u001b[0m \u001b[1m0s\u001b[0m 4ms/step\n",
            "Latent space saved to CSV files.\n"
          ]
        },
        {
          "output_type": "stream",
          "name": "stderr",
          "text": [
            "/usr/local/lib/python3.11/dist-packages/keras/src/layers/core/dense.py:87: UserWarning: Do not pass an `input_shape`/`input_dim` argument to a layer. When using Sequential models, prefer using an `Input(shape)` object as the first layer in the model instead.\n",
            "  super().__init__(activity_regularizer=activity_regularizer, **kwargs)\n"
          ]
        },
        {
          "output_type": "stream",
          "name": "stdout",
          "text": [
            "\u001b[1m19/19\u001b[0m \u001b[32m━━━━━━━━━━━━━━━━━━━━\u001b[0m\u001b[37m\u001b[0m \u001b[1m0s\u001b[0m 6ms/step\n"
          ]
        },
        {
          "output_type": "stream",
          "name": "stderr",
          "text": [
            "/usr/local/lib/python3.11/dist-packages/sklearn/linear_model/_logistic.py:1247: FutureWarning: 'multi_class' was deprecated in version 1.5 and will be removed in 1.7. From then on, it will always use 'multinomial'. Leave it to its default value to avoid this warning.\n",
            "  warnings.warn(\n"
          ]
        },
        {
          "output_type": "stream",
          "name": "stdout",
          "text": [
            "Results from C XVAE Type 1 ArchitectureAverage Accuracy- Random Forest: 0.7150\n",
            "Standard Error of Accuracy- Random Forest: 0.0000\n",
            "Average F1 Score- Random Forest: 0.7199\n",
            "Standard Error of F1 Score- Random Forest: 0.0000\n",
            "Average Accuracy- Neural Network: 0.8921\n",
            "Standard Error of Accuracy- Neural Network: 0.0000\n",
            "Average F1 Score- Neural Network: 0.8946\n",
            "Standard Error of F1 Score- Neural Network: 0.0000\n",
            "Average Accuracy- Logistic Regression: 0.9477\n",
            "Standard Error of Accuracy- Logistic Regression: 0.0000\n",
            "Average F1 Score- Logistic Regression: 0.9459\n",
            "Standard Error of F1 Score- Logistic Regression: 0.0000\n",
            "Average Accuracy- Linear SVM: 0.9696\n",
            "Standard Error of Accuracy- Linear SVM: 0.0000\n",
            "Average F1 Score- Linear SVM: 0.9689\n",
            "Standard Error of F1 Score- Linear SVM: 0.0000\n",
            "Average Accuracy- Non Linear SVM: 0.8432\n",
            "Standard Error of Accuracy- Non Linear SVM: 0.0000\n",
            "Average F1 Score- Non Linear SVM: 0.8160\n",
            "Standard Error of F1 Score- Non Linear SVM: 0.0000\n",
            "Average Accuracy- Naive Bayes: 0.4992\n",
            "Standard Error of Accuracy- Naive Bayes: 0.0000\n",
            "Average F1 Score- Naive Bayes: 0.4991\n",
            "Standard Error of F1 Score- Naive Bayes: 0.0000\n",
            "\u001b[1m44/44\u001b[0m \u001b[32m━━━━━━━━━━━━━━━━━━━━\u001b[0m\u001b[37m\u001b[0m \u001b[1m0s\u001b[0m 6ms/step\n",
            "\u001b[1m19/19\u001b[0m \u001b[32m━━━━━━━━━━━━━━━━━━━━\u001b[0m\u001b[37m\u001b[0m \u001b[1m0s\u001b[0m 4ms/step \n",
            "Latent space saved to CSV files.\n"
          ]
        },
        {
          "output_type": "stream",
          "name": "stderr",
          "text": [
            "/usr/local/lib/python3.11/dist-packages/keras/src/layers/core/dense.py:87: UserWarning: Do not pass an `input_shape`/`input_dim` argument to a layer. When using Sequential models, prefer using an `Input(shape)` object as the first layer in the model instead.\n",
            "  super().__init__(activity_regularizer=activity_regularizer, **kwargs)\n"
          ]
        },
        {
          "output_type": "stream",
          "name": "stdout",
          "text": [
            "\u001b[1m19/19\u001b[0m \u001b[32m━━━━━━━━━━━━━━━━━━━━\u001b[0m\u001b[37m\u001b[0m \u001b[1m0s\u001b[0m 6ms/step\n"
          ]
        },
        {
          "output_type": "stream",
          "name": "stderr",
          "text": [
            "/usr/local/lib/python3.11/dist-packages/sklearn/linear_model/_logistic.py:1247: FutureWarning: 'multi_class' was deprecated in version 1.5 and will be removed in 1.7. From then on, it will always use 'multinomial'. Leave it to its default value to avoid this warning.\n",
            "  warnings.warn(\n"
          ]
        },
        {
          "output_type": "stream",
          "name": "stdout",
          "text": [
            "Results from C XVAE Type 1 ArchitectureAverage Accuracy- Random Forest: 0.7723\n",
            "Standard Error of Accuracy- Random Forest: 0.0000\n",
            "Average F1 Score- Random Forest: 0.7831\n",
            "Standard Error of F1 Score- Random Forest: 0.0000\n",
            "Average Accuracy- Neural Network: 0.9191\n",
            "Standard Error of Accuracy- Neural Network: 0.0000\n",
            "Average F1 Score- Neural Network: 0.9184\n",
            "Standard Error of F1 Score- Neural Network: 0.0000\n",
            "Average Accuracy- Logistic Regression: 0.9595\n",
            "Standard Error of Accuracy- Logistic Regression: 0.0000\n",
            "Average F1 Score- Logistic Regression: 0.9594\n",
            "Standard Error of F1 Score- Logistic Regression: 0.0000\n",
            "Average Accuracy- Linear SVM: 0.9882\n",
            "Standard Error of Accuracy- Linear SVM: 0.0000\n",
            "Average F1 Score- Linear SVM: 0.9883\n",
            "Standard Error of F1 Score- Linear SVM: 0.0000\n",
            "Average Accuracy- Non Linear SVM: 0.9191\n",
            "Standard Error of Accuracy- Non Linear SVM: 0.0000\n",
            "Average F1 Score- Non Linear SVM: 0.9175\n",
            "Standard Error of F1 Score- Non Linear SVM: 0.0000\n",
            "Average Accuracy- Naive Bayes: 0.4013\n",
            "Standard Error of Accuracy- Naive Bayes: 0.0000\n",
            "Average F1 Score- Naive Bayes: 0.3979\n",
            "Standard Error of F1 Score- Naive Bayes: 0.0000\n",
            "\u001b[1m44/44\u001b[0m \u001b[32m━━━━━━━━━━━━━━━━━━━━\u001b[0m\u001b[37m\u001b[0m \u001b[1m1s\u001b[0m 9ms/step\n",
            "\u001b[1m19/19\u001b[0m \u001b[32m━━━━━━━━━━━━━━━━━━━━\u001b[0m\u001b[37m\u001b[0m \u001b[1m0s\u001b[0m 5ms/step\n",
            "Latent space saved to CSV files.\n"
          ]
        },
        {
          "output_type": "stream",
          "name": "stderr",
          "text": [
            "/usr/local/lib/python3.11/dist-packages/keras/src/layers/core/dense.py:87: UserWarning: Do not pass an `input_shape`/`input_dim` argument to a layer. When using Sequential models, prefer using an `Input(shape)` object as the first layer in the model instead.\n",
            "  super().__init__(activity_regularizer=activity_regularizer, **kwargs)\n"
          ]
        },
        {
          "output_type": "stream",
          "name": "stdout",
          "text": [
            "\u001b[1m19/19\u001b[0m \u001b[32m━━━━━━━━━━━━━━━━━━━━\u001b[0m\u001b[37m\u001b[0m \u001b[1m0s\u001b[0m 7ms/step\n"
          ]
        },
        {
          "output_type": "stream",
          "name": "stderr",
          "text": [
            "/usr/local/lib/python3.11/dist-packages/sklearn/linear_model/_logistic.py:1247: FutureWarning: 'multi_class' was deprecated in version 1.5 and will be removed in 1.7. From then on, it will always use 'multinomial'. Leave it to its default value to avoid this warning.\n",
            "  warnings.warn(\n"
          ]
        },
        {
          "output_type": "stream",
          "name": "stdout",
          "text": [
            "Results from C XVAE Type 1 ArchitectureAverage Accuracy- Random Forest: 0.5632\n",
            "Standard Error of Accuracy- Random Forest: 0.0000\n",
            "Average F1 Score- Random Forest: 0.5722\n",
            "Standard Error of F1 Score- Random Forest: 0.0000\n",
            "Average Accuracy- Neural Network: 0.9157\n",
            "Standard Error of Accuracy- Neural Network: 0.0000\n",
            "Average F1 Score- Neural Network: 0.9160\n",
            "Standard Error of F1 Score- Neural Network: 0.0000\n",
            "Average Accuracy- Logistic Regression: 0.9646\n",
            "Standard Error of Accuracy- Logistic Regression: 0.0000\n",
            "Average F1 Score- Logistic Regression: 0.9643\n",
            "Standard Error of F1 Score- Logistic Regression: 0.0000\n",
            "Average Accuracy- Linear SVM: 0.9798\n",
            "Standard Error of Accuracy- Linear SVM: 0.0000\n",
            "Average F1 Score- Linear SVM: 0.9797\n",
            "Standard Error of F1 Score- Linear SVM: 0.0000\n",
            "Average Accuracy- Non Linear SVM: 0.7133\n",
            "Standard Error of Accuracy- Non Linear SVM: 0.0000\n",
            "Average F1 Score- Non Linear SVM: 0.6910\n",
            "Standard Error of F1 Score- Non Linear SVM: 0.0000\n",
            "Average Accuracy- Naive Bayes: 0.4047\n",
            "Standard Error of Accuracy- Naive Bayes: 0.0000\n",
            "Average F1 Score- Naive Bayes: 0.4108\n",
            "Standard Error of F1 Score- Naive Bayes: 0.0000\n",
            "\u001b[1m44/44\u001b[0m \u001b[32m━━━━━━━━━━━━━━━━━━━━\u001b[0m\u001b[37m\u001b[0m \u001b[1m1s\u001b[0m 8ms/step\n",
            "\u001b[1m19/19\u001b[0m \u001b[32m━━━━━━━━━━━━━━━━━━━━\u001b[0m\u001b[37m\u001b[0m \u001b[1m0s\u001b[0m 5ms/step\n",
            "Latent space saved to CSV files.\n"
          ]
        },
        {
          "output_type": "stream",
          "name": "stderr",
          "text": [
            "/usr/local/lib/python3.11/dist-packages/keras/src/layers/core/dense.py:87: UserWarning: Do not pass an `input_shape`/`input_dim` argument to a layer. When using Sequential models, prefer using an `Input(shape)` object as the first layer in the model instead.\n",
            "  super().__init__(activity_regularizer=activity_regularizer, **kwargs)\n"
          ]
        },
        {
          "output_type": "stream",
          "name": "stdout",
          "text": [
            "\u001b[1m19/19\u001b[0m \u001b[32m━━━━━━━━━━━━━━━━━━━━\u001b[0m\u001b[37m\u001b[0m \u001b[1m0s\u001b[0m 6ms/step\n"
          ]
        },
        {
          "output_type": "stream",
          "name": "stderr",
          "text": [
            "/usr/local/lib/python3.11/dist-packages/sklearn/linear_model/_logistic.py:1247: FutureWarning: 'multi_class' was deprecated in version 1.5 and will be removed in 1.7. From then on, it will always use 'multinomial'. Leave it to its default value to avoid this warning.\n",
            "  warnings.warn(\n"
          ]
        },
        {
          "output_type": "stream",
          "name": "stdout",
          "text": [
            "Results from Extened CXVAE ArchitectureAverage Accuracy- Random Forest: 0.8111\n",
            "Standard Error of Accuracy- Random Forest: 0.0000\n",
            "Average F1 Score- Random Forest: 0.8217\n",
            "Standard Error of F1 Score- Random Forest: 0.0000\n",
            "Average Accuracy- Neural Network: 0.9798\n",
            "Standard Error of Accuracy- Neural Network: 0.0000\n",
            "Average F1 Score- Neural Network: 0.9802\n",
            "Standard Error of F1 Score- Neural Network: 0.0000\n",
            "Average Accuracy- Logistic Regression: 0.9966\n",
            "Standard Error of Accuracy- Logistic Regression: 0.0000\n",
            "Average F1 Score- Logistic Regression: 0.9966\n",
            "Standard Error of F1 Score- Logistic Regression: 0.0000\n",
            "Average Accuracy- Linear SVM: 1.0000\n",
            "Standard Error of Accuracy- Linear SVM: 0.0000\n",
            "Average F1 Score- Linear SVM: 1.0000\n",
            "Standard Error of F1 Score- Linear SVM: 0.0000\n",
            "Average Accuracy- Non Linear SVM: 0.9831\n",
            "Standard Error of Accuracy- Non Linear SVM: 0.0000\n",
            "Average F1 Score- Non Linear SVM: 0.9831\n",
            "Standard Error of F1 Score- Non Linear SVM: 0.0000\n",
            "Average Accuracy- Naive Bayes: 0.7976\n",
            "Standard Error of Accuracy- Naive Bayes: 0.0000\n",
            "Average F1 Score- Naive Bayes: 0.7995\n",
            "Standard Error of F1 Score- Naive Bayes: 0.0000\n",
            "\u001b[1m44/44\u001b[0m \u001b[32m━━━━━━━━━━━━━━━━━━━━\u001b[0m\u001b[37m\u001b[0m \u001b[1m1s\u001b[0m 11ms/step\n",
            "\u001b[1m19/19\u001b[0m \u001b[32m━━━━━━━━━━━━━━━━━━━━\u001b[0m\u001b[37m\u001b[0m \u001b[1m0s\u001b[0m 9ms/step\n",
            "Latent space saved to CSV files.\n"
          ]
        },
        {
          "output_type": "stream",
          "name": "stderr",
          "text": [
            "/usr/local/lib/python3.11/dist-packages/keras/src/layers/core/dense.py:87: UserWarning: Do not pass an `input_shape`/`input_dim` argument to a layer. When using Sequential models, prefer using an `Input(shape)` object as the first layer in the model instead.\n",
            "  super().__init__(activity_regularizer=activity_regularizer, **kwargs)\n"
          ]
        },
        {
          "output_type": "stream",
          "name": "stdout",
          "text": [
            "\u001b[1m19/19\u001b[0m \u001b[32m━━━━━━━━━━━━━━━━━━━━\u001b[0m\u001b[37m\u001b[0m \u001b[1m0s\u001b[0m 7ms/step\n"
          ]
        },
        {
          "output_type": "stream",
          "name": "stderr",
          "text": [
            "/usr/local/lib/python3.11/dist-packages/sklearn/linear_model/_logistic.py:1247: FutureWarning: 'multi_class' was deprecated in version 1.5 and will be removed in 1.7. From then on, it will always use 'multinomial'. Leave it to its default value to avoid this warning.\n",
            "  warnings.warn(\n",
            "/usr/local/lib/python3.11/dist-packages/sklearn/linear_model/_logistic.py:465: ConvergenceWarning: lbfgs failed to converge (status=1):\n",
            "STOP: TOTAL NO. OF ITERATIONS REACHED LIMIT.\n",
            "\n",
            "Increase the number of iterations (max_iter) or scale the data as shown in:\n",
            "    https://scikit-learn.org/stable/modules/preprocessing.html\n",
            "Please also refer to the documentation for alternative solver options:\n",
            "    https://scikit-learn.org/stable/modules/linear_model.html#logistic-regression\n",
            "  n_iter_i = _check_optimize_result(\n"
          ]
        },
        {
          "output_type": "stream",
          "name": "stdout",
          "text": [
            "Results from Extened CXVAE ArchitectureAverage Accuracy- Random Forest: 0.4722\n",
            "Standard Error of Accuracy- Random Forest: 0.0000\n",
            "Average F1 Score- Random Forest: 0.4595\n",
            "Standard Error of F1 Score- Random Forest: 0.0000\n",
            "Average Accuracy- Neural Network: 0.6678\n",
            "Standard Error of Accuracy- Neural Network: 0.0000\n",
            "Average F1 Score- Neural Network: 0.6502\n",
            "Standard Error of F1 Score- Neural Network: 0.0000\n",
            "Average Accuracy- Logistic Regression: 0.7066\n",
            "Standard Error of Accuracy- Logistic Regression: 0.0000\n",
            "Average F1 Score- Logistic Regression: 0.6980\n",
            "Standard Error of F1 Score- Logistic Regression: 0.0000\n",
            "Average Accuracy- Linear SVM: 0.6998\n",
            "Standard Error of Accuracy- Linear SVM: 0.0000\n",
            "Average F1 Score- Linear SVM: 0.6935\n",
            "Standard Error of F1 Score- Linear SVM: 0.0000\n",
            "Average Accuracy- Non Linear SVM: 0.6492\n",
            "Standard Error of Accuracy- Non Linear SVM: 0.0000\n",
            "Average F1 Score- Non Linear SVM: 0.6069\n",
            "Standard Error of F1 Score- Non Linear SVM: 0.0000\n",
            "Average Accuracy- Naive Bayes: 0.6138\n",
            "Standard Error of Accuracy- Naive Bayes: 0.0000\n",
            "Average F1 Score- Naive Bayes: 0.6224\n",
            "Standard Error of F1 Score- Naive Bayes: 0.0000\n",
            "\u001b[1m44/44\u001b[0m \u001b[32m━━━━━━━━━━━━━━━━━━━━\u001b[0m\u001b[37m\u001b[0m \u001b[1m1s\u001b[0m 15ms/step\n",
            "\u001b[1m19/19\u001b[0m \u001b[32m━━━━━━━━━━━━━━━━━━━━\u001b[0m\u001b[37m\u001b[0m \u001b[1m0s\u001b[0m 12ms/step\n",
            "Latent space saved to CSV files.\n"
          ]
        },
        {
          "output_type": "stream",
          "name": "stderr",
          "text": [
            "/usr/local/lib/python3.11/dist-packages/keras/src/layers/core/dense.py:87: UserWarning: Do not pass an `input_shape`/`input_dim` argument to a layer. When using Sequential models, prefer using an `Input(shape)` object as the first layer in the model instead.\n",
            "  super().__init__(activity_regularizer=activity_regularizer, **kwargs)\n"
          ]
        },
        {
          "output_type": "stream",
          "name": "stdout",
          "text": [
            "\u001b[1m19/19\u001b[0m \u001b[32m━━━━━━━━━━━━━━━━━━━━\u001b[0m\u001b[37m\u001b[0m \u001b[1m0s\u001b[0m 6ms/step\n"
          ]
        },
        {
          "output_type": "stream",
          "name": "stderr",
          "text": [
            "/usr/local/lib/python3.11/dist-packages/sklearn/linear_model/_logistic.py:1247: FutureWarning: 'multi_class' was deprecated in version 1.5 and will be removed in 1.7. From then on, it will always use 'multinomial'. Leave it to its default value to avoid this warning.\n",
            "  warnings.warn(\n"
          ]
        },
        {
          "output_type": "stream",
          "name": "stdout",
          "text": [
            "Results from C XVAE Type 1 ArchitectureAverage Accuracy- Random Forest: 0.4064\n",
            "Standard Error of Accuracy- Random Forest: 0.0000\n",
            "Average F1 Score- Random Forest: 0.3680\n",
            "Standard Error of F1 Score- Random Forest: 0.0000\n",
            "Average Accuracy- Neural Network: 0.5228\n",
            "Standard Error of Accuracy- Neural Network: 0.0000\n",
            "Average F1 Score- Neural Network: 0.4973\n",
            "Standard Error of F1 Score- Neural Network: 0.0000\n",
            "Average Accuracy- Logistic Regression: 0.5868\n",
            "Standard Error of Accuracy- Logistic Regression: 0.0000\n",
            "Average F1 Score- Logistic Regression: 0.5736\n",
            "Standard Error of F1 Score- Logistic Regression: 0.0000\n",
            "Average Accuracy- Linear SVM: 0.5632\n",
            "Standard Error of Accuracy- Linear SVM: 0.0000\n",
            "Average F1 Score- Linear SVM: 0.5487\n",
            "Standard Error of F1 Score- Linear SVM: 0.0000\n",
            "Average Accuracy- Non Linear SVM: 0.4958\n",
            "Standard Error of Accuracy- Non Linear SVM: 0.0000\n",
            "Average F1 Score- Non Linear SVM: 0.4288\n",
            "Standard Error of F1 Score- Non Linear SVM: 0.0000\n",
            "Average Accuracy- Naive Bayes: 0.4165\n",
            "Standard Error of Accuracy- Naive Bayes: 0.0000\n",
            "Average F1 Score- Naive Bayes: 0.4295\n",
            "Standard Error of F1 Score- Naive Bayes: 0.0000\n",
            "\u001b[1m44/44\u001b[0m \u001b[32m━━━━━━━━━━━━━━━━━━━━\u001b[0m\u001b[37m\u001b[0m \u001b[1m1s\u001b[0m 22ms/step\n",
            "\u001b[1m19/19\u001b[0m \u001b[32m━━━━━━━━━━━━━━━━━━━━\u001b[0m\u001b[37m\u001b[0m \u001b[1m0s\u001b[0m 14ms/step\n",
            "Latent space saved to CSV files.\n"
          ]
        },
        {
          "output_type": "stream",
          "name": "stderr",
          "text": [
            "/usr/local/lib/python3.11/dist-packages/keras/src/layers/core/dense.py:87: UserWarning: Do not pass an `input_shape`/`input_dim` argument to a layer. When using Sequential models, prefer using an `Input(shape)` object as the first layer in the model instead.\n",
            "  super().__init__(activity_regularizer=activity_regularizer, **kwargs)\n"
          ]
        },
        {
          "output_type": "stream",
          "name": "stdout",
          "text": [
            "\u001b[1m19/19\u001b[0m \u001b[32m━━━━━━━━━━━━━━━━━━━━\u001b[0m\u001b[37m\u001b[0m \u001b[1m0s\u001b[0m 7ms/step\n"
          ]
        },
        {
          "output_type": "stream",
          "name": "stderr",
          "text": [
            "/usr/local/lib/python3.11/dist-packages/sklearn/linear_model/_logistic.py:1247: FutureWarning: 'multi_class' was deprecated in version 1.5 and will be removed in 1.7. From then on, it will always use 'multinomial'. Leave it to its default value to avoid this warning.\n",
            "  warnings.warn(\n"
          ]
        },
        {
          "output_type": "stream",
          "name": "stdout",
          "text": [
            "Results from C XVAE Type 1 ArchitectureAverage Accuracy- Random Forest: 0.3980\n",
            "Standard Error of Accuracy- Random Forest: 0.0000\n",
            "Average F1 Score- Random Forest: 0.3612\n",
            "Standard Error of F1 Score- Random Forest: 0.0000\n",
            "Average Accuracy- Neural Network: 0.5396\n",
            "Standard Error of Accuracy- Neural Network: 0.0000\n",
            "Average F1 Score- Neural Network: 0.4976\n",
            "Standard Error of F1 Score- Neural Network: 0.0000\n",
            "Average Accuracy- Logistic Regression: 0.5750\n",
            "Standard Error of Accuracy- Logistic Regression: 0.0000\n",
            "Average F1 Score- Logistic Regression: 0.5591\n",
            "Standard Error of F1 Score- Logistic Regression: 0.0000\n",
            "Average Accuracy- Linear SVM: 0.5801\n",
            "Standard Error of Accuracy- Linear SVM: 0.0000\n",
            "Average F1 Score- Linear SVM: 0.5657\n",
            "Standard Error of F1 Score- Linear SVM: 0.0000\n",
            "Average Accuracy- Non Linear SVM: 0.5126\n",
            "Standard Error of Accuracy- Non Linear SVM: 0.0000\n",
            "Average F1 Score- Non Linear SVM: 0.4423\n",
            "Standard Error of F1 Score- Non Linear SVM: 0.0000\n",
            "Average Accuracy- Naive Bayes: 0.4233\n",
            "Standard Error of Accuracy- Naive Bayes: 0.0000\n",
            "Average F1 Score- Naive Bayes: 0.4367\n",
            "Standard Error of F1 Score- Naive Bayes: 0.0000\n",
            "\u001b[1m44/44\u001b[0m \u001b[32m━━━━━━━━━━━━━━━━━━━━\u001b[0m\u001b[37m\u001b[0m \u001b[1m0s\u001b[0m 5ms/step\n",
            "\u001b[1m19/19\u001b[0m \u001b[32m━━━━━━━━━━━━━━━━━━━━\u001b[0m\u001b[37m\u001b[0m \u001b[1m0s\u001b[0m 4ms/step \n",
            "Latent space saved to CSV files.\n"
          ]
        },
        {
          "output_type": "stream",
          "name": "stderr",
          "text": [
            "/usr/local/lib/python3.11/dist-packages/keras/src/layers/core/dense.py:87: UserWarning: Do not pass an `input_shape`/`input_dim` argument to a layer. When using Sequential models, prefer using an `Input(shape)` object as the first layer in the model instead.\n",
            "  super().__init__(activity_regularizer=activity_regularizer, **kwargs)\n"
          ]
        },
        {
          "output_type": "stream",
          "name": "stdout",
          "text": [
            "\u001b[1m19/19\u001b[0m \u001b[32m━━━━━━━━━━━━━━━━━━━━\u001b[0m\u001b[37m\u001b[0m \u001b[1m0s\u001b[0m 10ms/step\n"
          ]
        },
        {
          "output_type": "stream",
          "name": "stderr",
          "text": [
            "/usr/local/lib/python3.11/dist-packages/sklearn/linear_model/_logistic.py:1247: FutureWarning: 'multi_class' was deprecated in version 1.5 and will be removed in 1.7. From then on, it will always use 'multinomial'. Leave it to its default value to avoid this warning.\n",
            "  warnings.warn(\n"
          ]
        },
        {
          "output_type": "stream",
          "name": "stdout",
          "text": [
            "Results from C XVAE Type 1 ArchitectureAverage Accuracy- Random Forest: 0.9039\n",
            "Standard Error of Accuracy- Random Forest: 0.0000\n",
            "Average F1 Score- Random Forest: 0.9042\n",
            "Standard Error of F1 Score- Random Forest: 0.0000\n",
            "Average Accuracy- Neural Network: 0.8364\n",
            "Standard Error of Accuracy- Neural Network: 0.0000\n",
            "Average F1 Score- Neural Network: 0.7997\n",
            "Standard Error of F1 Score- Neural Network: 0.0000\n",
            "Average Accuracy- Logistic Regression: 0.9292\n",
            "Standard Error of Accuracy- Logistic Regression: 0.0000\n",
            "Average F1 Score- Logistic Regression: 0.9270\n",
            "Standard Error of F1 Score- Logistic Regression: 0.0000\n",
            "Average Accuracy- Linear SVM: 0.9460\n",
            "Standard Error of Accuracy- Linear SVM: 0.0000\n",
            "Average F1 Score- Linear SVM: 0.9456\n",
            "Standard Error of F1 Score- Linear SVM: 0.0000\n",
            "Average Accuracy- Non Linear SVM: 0.9359\n",
            "Standard Error of Accuracy- Non Linear SVM: 0.0000\n",
            "Average F1 Score- Non Linear SVM: 0.9344\n",
            "Standard Error of F1 Score- Non Linear SVM: 0.0000\n",
            "Average Accuracy- Naive Bayes: 0.8347\n",
            "Standard Error of Accuracy- Naive Bayes: 0.0000\n",
            "Average F1 Score- Naive Bayes: 0.8328\n",
            "Standard Error of F1 Score- Naive Bayes: 0.0000\n"
          ]
        },
        {
          "output_type": "stream",
          "name": "stderr",
          "text": [
            "/usr/local/lib/python3.11/dist-packages/keras/src/layers/core/dense.py:87: UserWarning: Do not pass an `input_shape`/`input_dim` argument to a layer. When using Sequential models, prefer using an `Input(shape)` object as the first layer in the model instead.\n",
            "  super().__init__(activity_regularizer=activity_regularizer, **kwargs)\n"
          ]
        },
        {
          "output_type": "stream",
          "name": "stdout",
          "text": [
            "\u001b[1m19/19\u001b[0m \u001b[32m━━━━━━━━━━━━━━━━━━━━\u001b[0m\u001b[37m\u001b[0m \u001b[1m0s\u001b[0m 9ms/step\n"
          ]
        },
        {
          "output_type": "stream",
          "name": "stderr",
          "text": [
            "/usr/local/lib/python3.11/dist-packages/sklearn/linear_model/_logistic.py:1247: FutureWarning: 'multi_class' was deprecated in version 1.5 and will be removed in 1.7. From then on, it will always use 'multinomial'. Leave it to its default value to avoid this warning.\n",
            "  warnings.warn(\n",
            "/usr/local/lib/python3.11/dist-packages/sklearn/linear_model/_logistic.py:465: ConvergenceWarning: lbfgs failed to converge (status=1):\n",
            "STOP: TOTAL NO. OF ITERATIONS REACHED LIMIT.\n",
            "\n",
            "Increase the number of iterations (max_iter) or scale the data as shown in:\n",
            "    https://scikit-learn.org/stable/modules/preprocessing.html\n",
            "Please also refer to the documentation for alternative solver options:\n",
            "    https://scikit-learn.org/stable/modules/linear_model.html#logistic-regression\n",
            "  n_iter_i = _check_optimize_result(\n"
          ]
        },
        {
          "output_type": "stream",
          "name": "stdout",
          "text": [
            "Results from C XVAE Type 1 ArchitectureAverage Accuracy- Random Forest: 0.5514\n",
            "Standard Error of Accuracy- Random Forest: 0.0000\n",
            "Average F1 Score- Random Forest: 0.5389\n",
            "Standard Error of F1 Score- Random Forest: 0.0000\n",
            "Average Accuracy- Neural Network: 0.7066\n",
            "Standard Error of Accuracy- Neural Network: 0.0000\n",
            "Average F1 Score- Neural Network: 0.7028\n",
            "Standard Error of F1 Score- Neural Network: 0.0000\n",
            "Average Accuracy- Logistic Regression: 0.7454\n",
            "Standard Error of Accuracy- Logistic Regression: 0.0000\n",
            "Average F1 Score- Logistic Regression: 0.7436\n",
            "Standard Error of F1 Score- Logistic Regression: 0.0000\n",
            "Average Accuracy- Linear SVM: 0.7437\n",
            "Standard Error of Accuracy- Linear SVM: 0.0000\n",
            "Average F1 Score- Linear SVM: 0.7425\n",
            "Standard Error of F1 Score- Linear SVM: 0.0000\n",
            "Average Accuracy- Non Linear SVM: 0.7690\n",
            "Standard Error of Accuracy- Non Linear SVM: 0.0000\n",
            "Average F1 Score- Non Linear SVM: 0.7588\n",
            "Standard Error of F1 Score- Non Linear SVM: 0.0000\n",
            "Average Accuracy- Naive Bayes: 0.2698\n",
            "Standard Error of Accuracy- Naive Bayes: 0.0000\n",
            "Average F1 Score- Naive Bayes: 0.2344\n",
            "Standard Error of F1 Score- Naive Bayes: 0.0000\n"
          ]
        },
        {
          "output_type": "stream",
          "name": "stderr",
          "text": [
            "/usr/local/lib/python3.11/dist-packages/keras/src/layers/core/dense.py:87: UserWarning: Do not pass an `input_shape`/`input_dim` argument to a layer. When using Sequential models, prefer using an `Input(shape)` object as the first layer in the model instead.\n",
            "  super().__init__(activity_regularizer=activity_regularizer, **kwargs)\n"
          ]
        },
        {
          "output_type": "stream",
          "name": "stdout",
          "text": [
            "\u001b[1m19/19\u001b[0m \u001b[32m━━━━━━━━━━━━━━━━━━━━\u001b[0m\u001b[37m\u001b[0m \u001b[1m0s\u001b[0m 8ms/step\n"
          ]
        },
        {
          "output_type": "stream",
          "name": "stderr",
          "text": [
            "/usr/local/lib/python3.11/dist-packages/sklearn/linear_model/_logistic.py:1247: FutureWarning: 'multi_class' was deprecated in version 1.5 and will be removed in 1.7. From then on, it will always use 'multinomial'. Leave it to its default value to avoid this warning.\n",
            "  warnings.warn(\n"
          ]
        },
        {
          "output_type": "stream",
          "name": "stdout",
          "text": [
            "Results from C XVAE Type 1 ArchitectureAverage Accuracy- Random Forest: 0.3777\n",
            "Standard Error of Accuracy- Random Forest: 0.0000\n",
            "Average F1 Score- Random Forest: 0.3154\n",
            "Standard Error of F1 Score- Random Forest: 0.0000\n",
            "Average Accuracy- Neural Network: 0.6813\n",
            "Standard Error of Accuracy- Neural Network: 0.0000\n",
            "Average F1 Score- Neural Network: 0.6567\n",
            "Standard Error of F1 Score- Neural Network: 0.0000\n",
            "Average Accuracy- Logistic Regression: 0.7538\n",
            "Standard Error of Accuracy- Logistic Regression: 0.0000\n",
            "Average F1 Score- Logistic Regression: 0.7530\n",
            "Standard Error of F1 Score- Logistic Regression: 0.0000\n",
            "Average Accuracy- Linear SVM: 0.7420\n",
            "Standard Error of Accuracy- Linear SVM: 0.0000\n",
            "Average F1 Score- Linear SVM: 0.7403\n",
            "Standard Error of F1 Score- Linear SVM: 0.0000\n",
            "Average Accuracy- Non Linear SVM: 0.7757\n",
            "Standard Error of Accuracy- Non Linear SVM: 0.0000\n",
            "Average F1 Score- Non Linear SVM: 0.7699\n",
            "Standard Error of F1 Score- Non Linear SVM: 0.0000\n",
            "Average Accuracy- Naive Bayes: 0.6088\n",
            "Standard Error of Accuracy- Naive Bayes: 0.0000\n",
            "Average F1 Score- Naive Bayes: 0.6037\n",
            "Standard Error of F1 Score- Naive Bayes: 0.0000\n"
          ]
        }
      ],
      "source": [
        "import conditional_integration\n",
        "\n",
        "# Number of different training and testing datasets\n",
        "num = 15\n",
        "\n",
        "\n",
        "###########################################\n",
        "###########################################\n",
        "# Integrate 2 datasets with labels\n",
        "###########################################\n",
        "###########################################\n",
        "# Run the CXVAE Type 1\n",
        "results = conditional_integration.CXVAET1(\n",
        "    dataset1=\"clin_Preprocessed.csv\",\n",
        "    dataset2=\"cna_Preprocessed.csv\",\n",
        "    target =\"Y_PAM50_PP.csv\",\n",
        "    n_runs=num,\n",
        "    labels_dim = 5,\n",
        "    num_hidden_vars = 16,\n",
        "    num_neurons= 64,\n",
        "    batch_size= 64\n",
        ")\n",
        "\n",
        "# Print the results\n",
        "for key, value in results.items():\n",
        "    print(f\"{key}: {value:.4f}\")\n",
        "\n",
        "\n",
        "# Run the CXVAE Type 2\n",
        "results = conditional_integration.CXVAET2(\n",
        "    dataset1=\"clin_Preprocessed.csv\",\n",
        "    dataset2=\"cna_Preprocessed.csv\",\n",
        "    target =\"Y_PAM50_PP.csv\",\n",
        "    n_runs=num,\n",
        "    labels_dim = 5,\n",
        "    num_hidden_vars = 24,\n",
        "    num_neurons= 32,\n",
        "    batch_size= 64\n",
        ")\n",
        "\n",
        "# Print the results\n",
        "for key, value in results.items():\n",
        "    print(f\"{key}: {value:.4f}\")\n",
        "\n",
        "\n",
        "# Run the CMMVAE\n",
        "results = conditional_integration.CMMVAE(\n",
        "    dataset1=\"clin_Preprocessed.csv\",\n",
        "    dataset2=\"cna_Preprocessed.csv\",\n",
        "    target =\"Y_PAM50_PP.csv\",\n",
        "    n_runs=num,\n",
        "    labels_dim = 5,\n",
        "    num_hidden_vars = 64,\n",
        "    num_neurons= 128,\n",
        "    batch_size= 64\n",
        ")\n",
        "\n",
        "# Print the results\n",
        "for key, value in results.items():\n",
        "    print(f\"{key}: {value:.4f}\")\n",
        "\n",
        "\n",
        "###########################################\n",
        "###########################################\n",
        "# Integrate 3 datasets\n",
        "###########################################\n",
        "###########################################\n",
        "\n",
        "# Run the Extended CXVAE  to integrate 3 datasets\n",
        "results = conditional_integration.EXTCXVAE(\n",
        "    dataset1=\"clin_Preprocessed.csv\",\n",
        "    dataset2=\"rna_Preprocessed.csv\",\n",
        "    dataset3=\"cna_Preprocessed.csv\",\n",
        "    target =\"Y_PAM50_PP.csv\",\n",
        "    n_runs=num,\n",
        "    labels_dim = 5,\n",
        "    num_hidden_vars = 32,\n",
        "    num_neurons= 64,\n",
        "    batch_size= 64\n",
        ")\n",
        "\n",
        "# Print the results\n",
        "for key, value in results.items():\n",
        "    print(f\"{key}: {value:.4f}\")\n",
        "\n",
        "# Run the Extended XVAE  to integrate 3 datasets\n",
        "results = conditional_integration.EXTXVAE(\n",
        "    dataset1=\"clin_Preprocessed.csv\",\n",
        "    dataset2=\"rna_Preprocessed.csv\",\n",
        "    dataset3=\"cna_Preprocessed.csv\",\n",
        "    target =\"Y_PAM50_PP.csv\",\n",
        "    n_runs=num,\n",
        "    labels_dim = 5,\n",
        "    num_hidden_vars = 64,\n",
        "    num_neurons= 256,\n",
        "    batch_size= 128\n",
        ")\n",
        "\n",
        "# Print the results\n",
        "for key, value in results.items():\n",
        "    print(f\"{key}: {value:.4f}\")\n",
        "\n",
        "###########################################\n",
        "###########################################\n",
        "# Integrate 2 datasets without lables\n",
        "###########################################\n",
        "###########################################\n",
        "\n",
        "# Run the XVAE\n",
        "results = conditional_integration.XVAE(\n",
        "    dataset1=\"clin_Preprocessed.csv\",\n",
        "    dataset2=\"cna_Preprocessed.csv\",\n",
        "    target =\"Y_PAM50_PP.csv\",\n",
        "    n_runs=num,\n",
        "    labels_dim = 5,\n",
        "    num_hidden_vars = 128,\n",
        "    num_neurons= 512,\n",
        "    batch_size= 128\n",
        ")\n",
        "\n",
        "# Print the results\n",
        "for key, value in results.items():\n",
        "    print(f\"{key}: {value:.4f}\")\n",
        "\n",
        "\n",
        "\n",
        "# Run the MMVAE\n",
        "results = conditional_integration.MMVAE(\n",
        "    dataset1=\"clin_Preprocessed.csv\",\n",
        "    dataset2=\"cna_Preprocessed.csv\",\n",
        "    target =\"Y_PAM50_PP.csv\",\n",
        "    n_runs=num,\n",
        "    labels_dim = 5,\n",
        "    num_hidden_vars = 256,\n",
        "    num_neurons= 512,\n",
        "    batch_size= 128\n",
        ")\n",
        "\n",
        "# Print the results\n",
        "for key, value in results.items():\n",
        "    print(f\"{key}: {value:.4f}\")\n",
        "\n",
        "\n",
        "###########################################\n",
        "###########################################\n",
        "# Apply single dataset to CVAE\n",
        "###########################################\n",
        "###########################################\n",
        "\n",
        "\n",
        "# Run the CXVAE single dataset\n",
        "results = conditional_integration.CXVAESD(\n",
        "    dataset=\"cna_Preprocessed.csv\",\n",
        "    target =\"Y_PAM50_PP.csv\",\n",
        "    n_runs=num,\n",
        "    labels_dim = 5,\n",
        "    num_hidden_vars = 8,\n",
        "    num_neurons= 64,\n",
        "    batch_size= 128\n",
        ")\n",
        "\n",
        "# Print the results\n",
        "for key, value in results.items():\n",
        "    print(f\"{key}: {value:.4f}\")\n",
        "\n",
        "\n",
        "###########################################\n",
        "###########################################\n",
        "# Integrate using traditional linear methods\n",
        "###########################################\n",
        "###########################################\n",
        "\n",
        "# Run the Concat\n",
        "results = conditional_integration.CONCAT(\n",
        "    dataset1=\"clin_Preprocessed.csv\",\n",
        "    dataset2=\"rna_Preprocessed.csv\",\n",
        "    target =\"Y_PAM50_PP.csv\",\n",
        "    n_runs=num,\n",
        "    labels_dim = 5,\n",
        ")\n",
        "\n",
        "\n",
        "# Print the results\n",
        "for key, value in results.items():\n",
        "    print(f\"{key}: {value:.4f}\")\n",
        "\n",
        "\n",
        "\n",
        "# Run the PCA\n",
        "results = conditional_integration.PCA(\n",
        "    dataset1=\"clin_Preprocessed.csv\",\n",
        "    dataset2=\"rna_Preprocessed.csv\",\n",
        "    target =\"Y_PAM50_PP.csv\",\n",
        "    n_runs=num,\n",
        "    labels_dim = 5,\n",
        ")\n",
        "\n",
        "# Print the results\n",
        "for key, value in results.items():\n",
        "    print(f\"{key}: {value:.4f}\")"
      ]
    },
    {
      "cell_type": "markdown",
      "metadata": {
        "id": "vUOzWEsuwAS5"
      },
      "source": [
        "\n",
        "*********************************\n",
        "Running code for CATHGEN dataset\n",
        "*********************************"
      ]
    },
    {
      "cell_type": "code",
      "execution_count": null,
      "metadata": {
        "id": "e0RRIlKOpy6Y",
        "colab": {
          "base_uri": "https://localhost:8080/"
        },
        "outputId": "667c8012-ceac-47bb-968d-09a4c775b3f1"
      },
      "outputs": [
        {
          "output_type": "stream",
          "name": "stdout",
          "text": [
            "\u001b[1m9/9\u001b[0m \u001b[32m━━━━━━━━━━━━━━━━━━━━\u001b[0m\u001b[37m\u001b[0m \u001b[1m0s\u001b[0m 24ms/step\n",
            "\u001b[1m4/4\u001b[0m \u001b[32m━━━━━━━━━━━━━━━━━━━━\u001b[0m\u001b[37m\u001b[0m \u001b[1m0s\u001b[0m 11ms/step\n",
            "Latent space saved to CSV files.\n"
          ]
        },
        {
          "output_type": "stream",
          "name": "stderr",
          "text": [
            "/usr/local/lib/python3.11/dist-packages/keras/src/layers/core/dense.py:87: UserWarning: Do not pass an `input_shape`/`input_dim` argument to a layer. When using Sequential models, prefer using an `Input(shape)` object as the first layer in the model instead.\n",
            "  super().__init__(activity_regularizer=activity_regularizer, **kwargs)\n"
          ]
        },
        {
          "output_type": "stream",
          "name": "stdout",
          "text": [
            "\u001b[1m4/4\u001b[0m \u001b[32m━━━━━━━━━━━━━━━━━━━━\u001b[0m\u001b[37m\u001b[0m \u001b[1m0s\u001b[0m 22ms/step\n",
            "Results from C XVAE Type 1 ArchitectureAverage Accuracy- Random Forest: 0.9508\n",
            "Standard Error of Accuracy- Random Forest: 0.0000\n",
            "Average F1 Score- Random Forest: 0.9507\n",
            "Standard Error of F1 Score- Random Forest: 0.0000\n",
            "Average Accuracy- Neural Network: 0.9180\n",
            "Standard Error of Accuracy- Neural Network: 0.0000\n",
            "Average F1 Score- Neural Network: 0.9184\n",
            "Standard Error of F1 Score- Neural Network: 0.0000\n",
            "Average Accuracy- Logistic Regression: 0.9180\n",
            "Standard Error of Accuracy- Logistic Regression: 0.0000\n",
            "Average F1 Score- Logistic Regression: 0.9171\n",
            "Standard Error of F1 Score- Logistic Regression: 0.0000\n",
            "Average Accuracy- Linear SVM: 0.9426\n",
            "Standard Error of Accuracy- Linear SVM: 0.0000\n",
            "Average F1 Score- Linear SVM: 0.9423\n",
            "Standard Error of F1 Score- Linear SVM: 0.0000\n",
            "Average Accuracy- Non Linear SVM: 0.8770\n",
            "Standard Error of Accuracy- Non Linear SVM: 0.0000\n",
            "Average F1 Score- Non Linear SVM: 0.8738\n",
            "Standard Error of F1 Score- Non Linear SVM: 0.0000\n",
            "Average Accuracy- Naive Bayes: 0.6639\n",
            "Standard Error of Accuracy- Naive Bayes: 0.0000\n",
            "Average F1 Score- Naive Bayes: 0.6407\n",
            "Standard Error of F1 Score- Naive Bayes: 0.0000\n"
          ]
        },
        {
          "output_type": "stream",
          "name": "stderr",
          "text": [
            "/usr/local/lib/python3.11/dist-packages/sklearn/linear_model/_logistic.py:1237: FutureWarning: 'multi_class' was deprecated in version 1.5 and will be removed in 1.7. From then on, binary problems will be fit as proper binary  logistic regression models (as if multi_class='ovr' were set). Leave it to its default value to avoid this warning.\n",
            "  warnings.warn(\n",
            "WARNING:tensorflow:5 out of the last 18 calls to <function TensorFlowTrainer.make_predict_function.<locals>.one_step_on_data_distributed at 0x7fa6094a2160> triggered tf.function retracing. Tracing is expensive and the excessive number of tracings could be due to (1) creating @tf.function repeatedly in a loop, (2) passing tensors with different shapes, (3) passing Python objects instead of tensors. For (1), please define your @tf.function outside of the loop. For (2), @tf.function has reduce_retracing=True option that can avoid unnecessary retracing. For (3), please refer to https://www.tensorflow.org/guide/function#controlling_retracing and https://www.tensorflow.org/api_docs/python/tf/function for  more details.\n"
          ]
        },
        {
          "output_type": "stream",
          "name": "stdout",
          "text": [
            "\u001b[1m9/9\u001b[0m \u001b[32m━━━━━━━━━━━━━━━━━━━━\u001b[0m\u001b[37m\u001b[0m \u001b[1m0s\u001b[0m 24ms/step\n",
            "\u001b[1m4/4\u001b[0m \u001b[32m━━━━━━━━━━━━━━━━━━━━\u001b[0m\u001b[37m\u001b[0m \u001b[1m0s\u001b[0m 11ms/step\n",
            "Latent space saved to CSV files.\n"
          ]
        },
        {
          "output_type": "stream",
          "name": "stderr",
          "text": [
            "/usr/local/lib/python3.11/dist-packages/keras/src/layers/core/dense.py:87: UserWarning: Do not pass an `input_shape`/`input_dim` argument to a layer. When using Sequential models, prefer using an `Input(shape)` object as the first layer in the model instead.\n",
            "  super().__init__(activity_regularizer=activity_regularizer, **kwargs)\n"
          ]
        },
        {
          "output_type": "stream",
          "name": "stdout",
          "text": [
            "\u001b[1m4/4\u001b[0m \u001b[32m━━━━━━━━━━━━━━━━━━━━\u001b[0m\u001b[37m\u001b[0m \u001b[1m0s\u001b[0m 21ms/step\n",
            "Results from C XVAE Type 1 ArchitectureAverage Accuracy- Random Forest: 0.8115\n",
            "Standard Error of Accuracy- Random Forest: 0.0000\n",
            "Average F1 Score- Random Forest: 0.8037\n",
            "Standard Error of F1 Score- Random Forest: 0.0000\n",
            "Average Accuracy- Neural Network: 0.9344\n",
            "Standard Error of Accuracy- Neural Network: 0.0000\n",
            "Average F1 Score- Neural Network: 0.9348\n",
            "Standard Error of F1 Score- Neural Network: 0.0000\n",
            "Average Accuracy- Logistic Regression: 0.9590\n",
            "Standard Error of Accuracy- Logistic Regression: 0.0000\n",
            "Average F1 Score- Logistic Regression: 0.9588\n",
            "Standard Error of F1 Score- Logistic Regression: 0.0000\n",
            "Average Accuracy- Linear SVM: 0.9590\n",
            "Standard Error of Accuracy- Linear SVM: 0.0000\n",
            "Average F1 Score- Linear SVM: 0.9588\n",
            "Standard Error of F1 Score- Linear SVM: 0.0000\n",
            "Average Accuracy- Non Linear SVM: 0.8361\n",
            "Standard Error of Accuracy- Non Linear SVM: 0.0000\n",
            "Average F1 Score- Non Linear SVM: 0.8300\n",
            "Standard Error of F1 Score- Non Linear SVM: 0.0000\n",
            "Average Accuracy- Naive Bayes: 0.7131\n",
            "Standard Error of Accuracy- Naive Bayes: 0.0000\n",
            "Average F1 Score- Naive Bayes: 0.6962\n",
            "Standard Error of F1 Score- Naive Bayes: 0.0000\n"
          ]
        },
        {
          "output_type": "stream",
          "name": "stderr",
          "text": [
            "/usr/local/lib/python3.11/dist-packages/sklearn/linear_model/_logistic.py:1237: FutureWarning: 'multi_class' was deprecated in version 1.5 and will be removed in 1.7. From then on, binary problems will be fit as proper binary  logistic regression models (as if multi_class='ovr' were set). Leave it to its default value to avoid this warning.\n",
            "  warnings.warn(\n",
            "WARNING:tensorflow:5 out of the last 18 calls to <function TensorFlowTrainer.make_predict_function.<locals>.one_step_on_data_distributed at 0x7fa60915e8e0> triggered tf.function retracing. Tracing is expensive and the excessive number of tracings could be due to (1) creating @tf.function repeatedly in a loop, (2) passing tensors with different shapes, (3) passing Python objects instead of tensors. For (1), please define your @tf.function outside of the loop. For (2), @tf.function has reduce_retracing=True option that can avoid unnecessary retracing. For (3), please refer to https://www.tensorflow.org/guide/function#controlling_retracing and https://www.tensorflow.org/api_docs/python/tf/function for  more details.\n"
          ]
        },
        {
          "output_type": "stream",
          "name": "stdout",
          "text": [
            "\u001b[1m9/9\u001b[0m \u001b[32m━━━━━━━━━━━━━━━━━━━━\u001b[0m\u001b[37m\u001b[0m \u001b[1m0s\u001b[0m 26ms/step\n",
            "\u001b[1m4/4\u001b[0m \u001b[32m━━━━━━━━━━━━━━━━━━━━\u001b[0m\u001b[37m\u001b[0m \u001b[1m0s\u001b[0m 11ms/step\n",
            "Latent space saved to CSV files.\n"
          ]
        },
        {
          "output_type": "stream",
          "name": "stderr",
          "text": [
            "/usr/local/lib/python3.11/dist-packages/keras/src/layers/core/dense.py:87: UserWarning: Do not pass an `input_shape`/`input_dim` argument to a layer. When using Sequential models, prefer using an `Input(shape)` object as the first layer in the model instead.\n",
            "  super().__init__(activity_regularizer=activity_regularizer, **kwargs)\n"
          ]
        },
        {
          "output_type": "stream",
          "name": "stdout",
          "text": [
            "\u001b[1m4/4\u001b[0m \u001b[32m━━━━━━━━━━━━━━━━━━━━\u001b[0m\u001b[37m\u001b[0m \u001b[1m0s\u001b[0m 23ms/step\n",
            "Results from C XVAE Type 1 ArchitectureAverage Accuracy- Random Forest: 0.7705\n",
            "Standard Error of Accuracy- Random Forest: 0.0000\n",
            "Average F1 Score- Random Forest: 0.7705\n",
            "Standard Error of F1 Score- Random Forest: 0.0000\n",
            "Average Accuracy- Neural Network: 0.8689\n",
            "Standard Error of Accuracy- Neural Network: 0.0000\n",
            "Average F1 Score- Neural Network: 0.8640\n",
            "Standard Error of F1 Score- Neural Network: 0.0000\n",
            "Average Accuracy- Logistic Regression: 0.7951\n",
            "Standard Error of Accuracy- Logistic Regression: 0.0000\n",
            "Average F1 Score- Logistic Regression: 0.7897\n",
            "Standard Error of F1 Score- Logistic Regression: 0.0000\n",
            "Average Accuracy- Linear SVM: 0.8033\n",
            "Standard Error of Accuracy- Linear SVM: 0.0000\n",
            "Average F1 Score- Linear SVM: 0.7974\n",
            "Standard Error of F1 Score- Linear SVM: 0.0000\n",
            "Average Accuracy- Non Linear SVM: 0.6475\n",
            "Standard Error of Accuracy- Non Linear SVM: 0.0000\n",
            "Average F1 Score- Non Linear SVM: 0.6149\n",
            "Standard Error of F1 Score- Non Linear SVM: 0.0000\n",
            "Average Accuracy- Naive Bayes: 0.6393\n",
            "Standard Error of Accuracy- Naive Bayes: 0.0000\n",
            "Average F1 Score- Naive Bayes: 0.6082\n",
            "Standard Error of F1 Score- Naive Bayes: 0.0000\n"
          ]
        },
        {
          "output_type": "stream",
          "name": "stderr",
          "text": [
            "/usr/local/lib/python3.11/dist-packages/sklearn/linear_model/_logistic.py:1237: FutureWarning: 'multi_class' was deprecated in version 1.5 and will be removed in 1.7. From then on, binary problems will be fit as proper binary  logistic regression models (as if multi_class='ovr' were set). Leave it to its default value to avoid this warning.\n",
            "  warnings.warn(\n"
          ]
        },
        {
          "output_type": "stream",
          "name": "stdout",
          "text": [
            "\u001b[1m9/9\u001b[0m \u001b[32m━━━━━━━━━━━━━━━━━━━━\u001b[0m\u001b[37m\u001b[0m \u001b[1m0s\u001b[0m 23ms/step\n",
            "\u001b[1m4/4\u001b[0m \u001b[32m━━━━━━━━━━━━━━━━━━━━\u001b[0m\u001b[37m\u001b[0m \u001b[1m0s\u001b[0m 13ms/step\n",
            "Latent space saved to CSV files.\n"
          ]
        },
        {
          "output_type": "stream",
          "name": "stderr",
          "text": [
            "/usr/local/lib/python3.11/dist-packages/keras/src/layers/core/dense.py:87: UserWarning: Do not pass an `input_shape`/`input_dim` argument to a layer. When using Sequential models, prefer using an `Input(shape)` object as the first layer in the model instead.\n",
            "  super().__init__(activity_regularizer=activity_regularizer, **kwargs)\n"
          ]
        },
        {
          "output_type": "stream",
          "name": "stdout",
          "text": [
            "\u001b[1m4/4\u001b[0m \u001b[32m━━━━━━━━━━━━━━━━━━━━\u001b[0m\u001b[37m\u001b[0m \u001b[1m0s\u001b[0m 26ms/step\n",
            "Results from C XVAE Type 1 ArchitectureAverage Accuracy- Random Forest: 0.5738\n",
            "Standard Error of Accuracy- Random Forest: 0.0000\n",
            "Average F1 Score- Random Forest: 0.5545\n",
            "Standard Error of F1 Score- Random Forest: 0.0000\n",
            "Average Accuracy- Neural Network: 0.6475\n",
            "Standard Error of Accuracy- Neural Network: 0.0000\n",
            "Average F1 Score- Neural Network: 0.6149\n",
            "Standard Error of F1 Score- Neural Network: 0.0000\n",
            "Average Accuracy- Logistic Regression: 0.6311\n",
            "Standard Error of Accuracy- Logistic Regression: 0.0000\n",
            "Average F1 Score- Logistic Regression: 0.5867\n",
            "Standard Error of F1 Score- Logistic Regression: 0.0000\n",
            "Average Accuracy- Linear SVM: 0.6311\n",
            "Standard Error of Accuracy- Linear SVM: 0.0000\n",
            "Average F1 Score- Linear SVM: 0.5921\n",
            "Standard Error of F1 Score- Linear SVM: 0.0000\n",
            "Average Accuracy- Non Linear SVM: 0.6311\n",
            "Standard Error of Accuracy- Non Linear SVM: 0.0000\n",
            "Average F1 Score- Non Linear SVM: 0.5867\n",
            "Standard Error of F1 Score- Non Linear SVM: 0.0000\n",
            "Average Accuracy- Naive Bayes: 0.6475\n",
            "Standard Error of Accuracy- Naive Bayes: 0.0000\n",
            "Average F1 Score- Naive Bayes: 0.6149\n",
            "Standard Error of F1 Score- Naive Bayes: 0.0000\n"
          ]
        },
        {
          "output_type": "stream",
          "name": "stderr",
          "text": [
            "/usr/local/lib/python3.11/dist-packages/sklearn/linear_model/_logistic.py:1237: FutureWarning: 'multi_class' was deprecated in version 1.5 and will be removed in 1.7. From then on, binary problems will be fit as proper binary  logistic regression models (as if multi_class='ovr' were set). Leave it to its default value to avoid this warning.\n",
            "  warnings.warn(\n"
          ]
        },
        {
          "output_type": "stream",
          "name": "stdout",
          "text": [
            "\u001b[1m9/9\u001b[0m \u001b[32m━━━━━━━━━━━━━━━━━━━━\u001b[0m\u001b[37m\u001b[0m \u001b[1m1s\u001b[0m 41ms/step\n",
            "\u001b[1m4/4\u001b[0m \u001b[32m━━━━━━━━━━━━━━━━━━━━\u001b[0m\u001b[37m\u001b[0m \u001b[1m0s\u001b[0m 18ms/step\n",
            "Latent space saved to CSV files.\n"
          ]
        },
        {
          "output_type": "stream",
          "name": "stderr",
          "text": [
            "/usr/local/lib/python3.11/dist-packages/keras/src/layers/core/dense.py:87: UserWarning: Do not pass an `input_shape`/`input_dim` argument to a layer. When using Sequential models, prefer using an `Input(shape)` object as the first layer in the model instead.\n",
            "  super().__init__(activity_regularizer=activity_regularizer, **kwargs)\n"
          ]
        },
        {
          "output_type": "stream",
          "name": "stdout",
          "text": [
            "\u001b[1m4/4\u001b[0m \u001b[32m━━━━━━━━━━━━━━━━━━━━\u001b[0m\u001b[37m\u001b[0m \u001b[1m0s\u001b[0m 22ms/step\n",
            "Results from C XVAE Type 1 ArchitectureAverage Accuracy- Random Forest: 0.5902\n",
            "Standard Error of Accuracy- Random Forest: 0.0000\n",
            "Average F1 Score- Random Forest: 0.5807\n",
            "Standard Error of F1 Score- Random Forest: 0.0000\n",
            "Average Accuracy- Neural Network: 0.6475\n",
            "Standard Error of Accuracy- Neural Network: 0.0000\n",
            "Average F1 Score- Neural Network: 0.6267\n",
            "Standard Error of F1 Score- Neural Network: 0.0000\n",
            "Average Accuracy- Logistic Regression: 0.6557\n",
            "Standard Error of Accuracy- Logistic Regression: 0.0000\n",
            "Average F1 Score- Logistic Regression: 0.6260\n",
            "Standard Error of F1 Score- Logistic Regression: 0.0000\n",
            "Average Accuracy- Linear SVM: 0.6393\n",
            "Standard Error of Accuracy- Linear SVM: 0.0000\n",
            "Average F1 Score- Linear SVM: 0.6082\n",
            "Standard Error of F1 Score- Linear SVM: 0.0000\n",
            "Average Accuracy- Non Linear SVM: 0.6393\n",
            "Standard Error of Accuracy- Non Linear SVM: 0.0000\n",
            "Average F1 Score- Non Linear SVM: 0.6082\n",
            "Standard Error of F1 Score- Non Linear SVM: 0.0000\n",
            "Average Accuracy- Naive Bayes: 0.6311\n",
            "Standard Error of Accuracy- Naive Bayes: 0.0000\n",
            "Average F1 Score- Naive Bayes: 0.6015\n",
            "Standard Error of F1 Score- Naive Bayes: 0.0000\n"
          ]
        },
        {
          "output_type": "stream",
          "name": "stderr",
          "text": [
            "/usr/local/lib/python3.11/dist-packages/sklearn/linear_model/_logistic.py:1237: FutureWarning: 'multi_class' was deprecated in version 1.5 and will be removed in 1.7. From then on, binary problems will be fit as proper binary  logistic regression models (as if multi_class='ovr' were set). Leave it to its default value to avoid this warning.\n",
            "  warnings.warn(\n"
          ]
        },
        {
          "output_type": "stream",
          "name": "stdout",
          "text": [
            "\u001b[1m9/9\u001b[0m \u001b[32m━━━━━━━━━━━━━━━━━━━━\u001b[0m\u001b[37m\u001b[0m \u001b[1m0s\u001b[0m 18ms/step\n",
            "\u001b[1m4/4\u001b[0m \u001b[32m━━━━━━━━━━━━━━━━━━━━\u001b[0m\u001b[37m\u001b[0m \u001b[1m0s\u001b[0m 12ms/step\n",
            "Latent space saved to CSV files.\n"
          ]
        },
        {
          "output_type": "stream",
          "name": "stderr",
          "text": [
            "/usr/local/lib/python3.11/dist-packages/keras/src/layers/core/dense.py:87: UserWarning: Do not pass an `input_shape`/`input_dim` argument to a layer. When using Sequential models, prefer using an `Input(shape)` object as the first layer in the model instead.\n",
            "  super().__init__(activity_regularizer=activity_regularizer, **kwargs)\n"
          ]
        },
        {
          "output_type": "stream",
          "name": "stdout",
          "text": [
            "\u001b[1m4/4\u001b[0m \u001b[32m━━━━━━━━━━━━━━━━━━━━\u001b[0m\u001b[37m\u001b[0m \u001b[1m0s\u001b[0m 22ms/step\n",
            "Results from C XVAE Type 1 ArchitectureAverage Accuracy- Random Forest: 0.8197\n",
            "Standard Error of Accuracy- Random Forest: 0.0000\n",
            "Average F1 Score- Random Forest: 0.8197\n",
            "Standard Error of F1 Score- Random Forest: 0.0000\n",
            "Average Accuracy- Neural Network: 0.8279\n",
            "Standard Error of Accuracy- Neural Network: 0.0000\n",
            "Average F1 Score- Neural Network: 0.8289\n",
            "Standard Error of F1 Score- Neural Network: 0.0000\n",
            "Average Accuracy- Logistic Regression: 0.8443\n",
            "Standard Error of Accuracy- Logistic Regression: 0.0000\n",
            "Average F1 Score- Logistic Regression: 0.8434\n",
            "Standard Error of F1 Score- Logistic Regression: 0.0000\n",
            "Average Accuracy- Linear SVM: 0.8443\n",
            "Standard Error of Accuracy- Linear SVM: 0.0000\n",
            "Average F1 Score- Linear SVM: 0.8440\n",
            "Standard Error of F1 Score- Linear SVM: 0.0000\n",
            "Average Accuracy- Non Linear SVM: 0.8443\n",
            "Standard Error of Accuracy- Non Linear SVM: 0.0000\n",
            "Average F1 Score- Non Linear SVM: 0.8440\n",
            "Standard Error of F1 Score- Non Linear SVM: 0.0000\n",
            "Average Accuracy- Naive Bayes: 0.8279\n",
            "Standard Error of Accuracy- Naive Bayes: 0.0000\n",
            "Average F1 Score- Naive Bayes: 0.8289\n",
            "Standard Error of F1 Score- Naive Bayes: 0.0000\n"
          ]
        },
        {
          "output_type": "stream",
          "name": "stderr",
          "text": [
            "/usr/local/lib/python3.11/dist-packages/sklearn/linear_model/_logistic.py:1237: FutureWarning: 'multi_class' was deprecated in version 1.5 and will be removed in 1.7. From then on, binary problems will be fit as proper binary  logistic regression models (as if multi_class='ovr' were set). Leave it to its default value to avoid this warning.\n",
            "  warnings.warn(\n",
            "/usr/local/lib/python3.11/dist-packages/keras/src/layers/core/dense.py:87: UserWarning: Do not pass an `input_shape`/`input_dim` argument to a layer. When using Sequential models, prefer using an `Input(shape)` object as the first layer in the model instead.\n",
            "  super().__init__(activity_regularizer=activity_regularizer, **kwargs)\n"
          ]
        },
        {
          "output_type": "stream",
          "name": "stdout",
          "text": [
            "\u001b[1m4/4\u001b[0m \u001b[32m━━━━━━━━━━━━━━━━━━━━\u001b[0m\u001b[37m\u001b[0m \u001b[1m0s\u001b[0m 27ms/step\n"
          ]
        },
        {
          "output_type": "stream",
          "name": "stderr",
          "text": [
            "/usr/local/lib/python3.11/dist-packages/sklearn/linear_model/_logistic.py:1237: FutureWarning: 'multi_class' was deprecated in version 1.5 and will be removed in 1.7. From then on, binary problems will be fit as proper binary  logistic regression models (as if multi_class='ovr' were set). Leave it to its default value to avoid this warning.\n",
            "  warnings.warn(\n"
          ]
        },
        {
          "output_type": "stream",
          "name": "stdout",
          "text": [
            "Results from C XVAE Type 1 ArchitectureAverage Accuracy- Random Forest: 0.6311\n",
            "Standard Error of Accuracy- Random Forest: 0.0000\n",
            "Average F1 Score- Random Forest: 0.5747\n",
            "Standard Error of F1 Score- Random Forest: 0.0000\n",
            "Average Accuracy- Neural Network: 0.5902\n",
            "Standard Error of Accuracy- Neural Network: 0.0000\n",
            "Average F1 Score- Neural Network: 0.5853\n",
            "Standard Error of F1 Score- Neural Network: 0.0000\n",
            "Average Accuracy- Logistic Regression: 0.5656\n",
            "Standard Error of Accuracy- Logistic Regression: 0.0000\n",
            "Average F1 Score- Logistic Regression: 0.5399\n",
            "Standard Error of F1 Score- Logistic Regression: 0.0000\n",
            "Average Accuracy- Linear SVM: 0.5984\n",
            "Standard Error of Accuracy- Linear SVM: 0.0000\n",
            "Average F1 Score- Linear SVM: 0.5819\n",
            "Standard Error of F1 Score- Linear SVM: 0.0000\n",
            "Average Accuracy- Non Linear SVM: 0.6393\n",
            "Standard Error of Accuracy- Non Linear SVM: 0.0000\n",
            "Average F1 Score- Non Linear SVM: 0.6082\n",
            "Standard Error of F1 Score- Non Linear SVM: 0.0000\n",
            "Average Accuracy- Naive Bayes: 0.6230\n",
            "Standard Error of Accuracy- Naive Bayes: 0.0000\n",
            "Average F1 Score- Naive Bayes: 0.5948\n",
            "Standard Error of F1 Score- Naive Bayes: 0.0000\n"
          ]
        },
        {
          "output_type": "stream",
          "name": "stderr",
          "text": [
            "/usr/local/lib/python3.11/dist-packages/keras/src/layers/core/dense.py:87: UserWarning: Do not pass an `input_shape`/`input_dim` argument to a layer. When using Sequential models, prefer using an `Input(shape)` object as the first layer in the model instead.\n",
            "  super().__init__(activity_regularizer=activity_regularizer, **kwargs)\n"
          ]
        },
        {
          "output_type": "stream",
          "name": "stdout",
          "text": [
            "\u001b[1m4/4\u001b[0m \u001b[32m━━━━━━━━━━━━━━━━━━━━\u001b[0m\u001b[37m\u001b[0m \u001b[1m0s\u001b[0m 21ms/step\n",
            "Results from C XVAE Type 1 ArchitectureAverage Accuracy- Random Forest: 0.5902\n",
            "Standard Error of Accuracy- Random Forest: 0.0000\n",
            "Average F1 Score- Random Forest: 0.4381\n",
            "Standard Error of F1 Score- Random Forest: 0.0000\n",
            "Average Accuracy- Neural Network: 0.6230\n",
            "Standard Error of Accuracy- Neural Network: 0.0000\n",
            "Average F1 Score- Neural Network: 0.6090\n",
            "Standard Error of F1 Score- Neural Network: 0.0000\n",
            "Average Accuracy- Logistic Regression: 0.6066\n",
            "Standard Error of Accuracy- Logistic Regression: 0.0000\n",
            "Average F1 Score- Logistic Regression: 0.5771\n",
            "Standard Error of F1 Score- Logistic Regression: 0.0000\n",
            "Average Accuracy- Linear SVM: 0.6148\n",
            "Standard Error of Accuracy- Linear SVM: 0.0000\n",
            "Average F1 Score- Linear SVM: 0.5956\n",
            "Standard Error of F1 Score- Linear SVM: 0.0000\n",
            "Average Accuracy- Non Linear SVM: 0.6393\n",
            "Standard Error of Accuracy- Non Linear SVM: 0.0000\n",
            "Average F1 Score- Non Linear SVM: 0.6082\n",
            "Standard Error of F1 Score- Non Linear SVM: 0.0000\n",
            "Average Accuracy- Naive Bayes: 0.6230\n",
            "Standard Error of Accuracy- Naive Bayes: 0.0000\n",
            "Average F1 Score- Naive Bayes: 0.6117\n",
            "Standard Error of F1 Score- Naive Bayes: 0.0000\n"
          ]
        },
        {
          "output_type": "stream",
          "name": "stderr",
          "text": [
            "/usr/local/lib/python3.11/dist-packages/sklearn/linear_model/_logistic.py:1237: FutureWarning: 'multi_class' was deprecated in version 1.5 and will be removed in 1.7. From then on, binary problems will be fit as proper binary  logistic regression models (as if multi_class='ovr' were set). Leave it to its default value to avoid this warning.\n",
            "  warnings.warn(\n"
          ]
        }
      ],
      "source": [
        "import conditional_integration\n",
        "\n",
        "# Number of different training and testing datasets\n",
        "num = 1\n",
        "\n",
        "###########################################\n",
        "###########################################\n",
        "# Integrate 2 datasets with labels\n",
        "###########################################\n",
        "###########################################\n",
        "# Run the CXVAE Type 1\n",
        "results = conditional_integration.CXVAET1(\n",
        "    dataset1=\"Gene_Expression.csv\",\n",
        "    dataset2=\"SNP_data.csv\",\n",
        "    target =\"Clinical_PP.csv\",\n",
        "    n_runs=num,\n",
        "    labels_dim = 2,\n",
        "    num_hidden_vars = 12,\n",
        "    num_neurons= 64,\n",
        "    batch_size= 64\n",
        ")\n",
        "# Print the results\n",
        "for key, value in results.items():\n",
        "    print(f\"{key}: {value:.4f}\")\n",
        "\n",
        "\n",
        "\n",
        "# Run the CXVAE Type 2\n",
        "results = conditional_integration.CXVAET2(\n",
        "    dataset1=\"Gene_Expression.csv\",\n",
        "    dataset2=\"SNP_data.csv\",\n",
        "    target =\"Clinical_PP.csv\",\n",
        "    n_runs=num,\n",
        "    labels_dim = 2,\n",
        "    num_hidden_vars = 12,\n",
        "    num_neurons= 64,\n",
        "    batch_size= 64\n",
        ")\n",
        "\n",
        "# Print the results\n",
        "for key, value in results.items():\n",
        "    print(f\"{key}: {value:.4f}\")\n",
        "\n",
        "\n",
        "# Run the CMMVAE\n",
        "results = conditional_integration.CMMVAE(\n",
        "    dataset1=\"Gene_Expression.csv\",\n",
        "    dataset2=\"SNP_data.csv\",\n",
        "    target =\"Clinical_PP.csv\",\n",
        "    n_runs=num,\n",
        "    labels_dim = 2,\n",
        "    num_hidden_vars = 20,\n",
        "    num_neurons= 64,\n",
        "    batch_size= 64\n",
        ")\n",
        "\n",
        "# Print the results\n",
        "for key, value in results.items():\n",
        "    print(f\"{key}: {value:.4f}\")\n",
        "\n",
        "###########################################\n",
        "###########################################\n",
        "# Integrate 2 datasets without lables\n",
        "###########################################\n",
        "###########################################\n",
        "\n",
        "\n",
        "# Run the XVAE\n",
        "results = conditional_integration.XVAE(\n",
        "    dataset1=\"Gene_Expression.csv\",\n",
        "    dataset2=\"SNP_data.csv\",\n",
        "    target =\"Clinical_PP.csv\",\n",
        "    n_runs=num,\n",
        "    labels_dim = 2,\n",
        "    num_hidden_vars = 8,\n",
        "    num_neurons= 64,\n",
        "    batch_size= 64\n",
        ")\n",
        "\n",
        "\n",
        "# Print the results\n",
        "for key, value in results.items():\n",
        "    print(f\"{key}: {value:.4f}\")\n",
        "\n",
        "# Run the MMVAE\n",
        "results = conditional_integration.MMVAE(\n",
        "    dataset1=\"Gene_Expression.csv\",\n",
        "    dataset2=\"SNP_data.csv\",\n",
        "    target =\"Clinical_PP.csv\",\n",
        "    n_runs=num,\n",
        "    labels_dim = 2,\n",
        "    num_hidden_vars = 8,\n",
        "    num_neurons= 64,\n",
        "    batch_size= 64\n",
        ")\n",
        "# Print the results\n",
        "for key, value in results.items():\n",
        "    print(f\"{key}: {value:.4f}\")\n",
        "\n",
        "###########################################\n",
        "###########################################\n",
        "# Apply single dataset to CVAE\n",
        "###########################################\n",
        "###########################################\n",
        "\n",
        "\n",
        "# Run the CXVAE single dataset\n",
        "results = conditional_integration.CXVAESD(\n",
        "    dataset=\"SNP_data.csv\",\n",
        "    target =\"Clinical_PP.csv\",\n",
        "    n_runs=num,\n",
        "    labels_dim = 2,\n",
        "    num_hidden_vars = 4,\n",
        "    num_neurons= 64,\n",
        "    batch_size= 64\n",
        ")\n",
        "\n",
        "\n",
        "\n",
        "# Print the results\n",
        "for key, value in results.items():\n",
        "    print(f\"{key}: {value:.4f}\")\n",
        "\n",
        "###########################################\n",
        "###########################################\n",
        "# Integrate using traditional linear methods\n",
        "###########################################\n",
        "###########################################\n",
        "\n",
        "# Run the Concat\n",
        "results = conditional_integration.CONCAT(\n",
        "    dataset1=\"Gene_Expression.csv\",\n",
        "    dataset2=\"SNP_data.csv\",\n",
        "    target =\"Clinical_PP.csv\",\n",
        "    n_runs=num,\n",
        "    labels_dim = 5,\n",
        ")\n",
        "\n",
        "\n",
        "# Print the results\n",
        "for key, value in results.items():\n",
        "    print(f\"{key}: {value:.4f}\")\n",
        "\n",
        "# Run the PCA\n",
        "results = conditional_integration.PCA(\n",
        "    dataset1=\"Gene_Expression.csv\",\n",
        "    dataset2=\"SNP_data.csv\",\n",
        "    target =\"Clinical_PP.csv\",\n",
        "    n_runs=num,\n",
        "    labels_dim = 5,\n",
        ")\n",
        "\n",
        "\n",
        "# Print the results\n",
        "for key, value in results.items():\n",
        "    print(f\"{key}: {value:.4f}\")\n"
      ]
    },
    {
      "cell_type": "markdown",
      "source": [
        "*********************************\n",
        "*********************************\n",
        "*********************************\n",
        "Running code for Linearly Simulated dataset\n",
        "*********************************\n",
        "*********************************\n",
        "*********************************"
      ],
      "metadata": {
        "id": "MCOqw9S8deJE"
      }
    },
    {
      "cell_type": "code",
      "source": [
        "import conditional_integration\n",
        "\n",
        "# Number of different training and testing datasets\n",
        "num = 1\n",
        "\n",
        "\n",
        "###########################################\n",
        "###########################################\n",
        "# Integrate 2 datasets with labels\n",
        "###########################################\n",
        "###########################################\n",
        "\n",
        "# Run the CXVAE Type 1\n",
        "results = conditional_integration.CXVAET1(\n",
        "    dataset1=\"X1LS.csv\",\n",
        "    dataset2=\"X2LS.csv\",\n",
        "    target =\"Y_PP.csv\",\n",
        "    n_runs=num,\n",
        "    labels_dim = 3,\n",
        "    num_hidden_vars = 6,\n",
        "    num_neurons= 64,\n",
        "    batch_size= 128\n",
        ")\n",
        "# Print the results\n",
        "for key, value in results.items():\n",
        "    print(f\"{key}: {value:.4f}\")\n",
        "\n",
        "\n",
        "# Run the CXVAE Type 2\n",
        "results = conditional_integration.CXVAET2(\n",
        "    dataset1=\"X1LS.csv\",\n",
        "    dataset2=\"X2LS.csv\",\n",
        "    target =\"Y_PP.csv\",\n",
        "    n_runs=num,\n",
        "    labels_dim = 3,\n",
        "    num_hidden_vars = 6,\n",
        "    num_neurons= 64,\n",
        "    batch_size= 128\n",
        ")\n",
        "\n",
        "# Print the results\n",
        "for key, value in results.items():\n",
        "    print(f\"{key}: {value:.4f}\")\n",
        "\n",
        "# Run the CMMVAE\n",
        "results = conditional_integration.CMMVAE(\n",
        "    dataset1=\"X1LS.csv\",\n",
        "    dataset2=\"X2LS.csv\",\n",
        "    target =\"Y_PP.csv\",\n",
        "    n_runs=num,\n",
        "    labels_dim = 3,\n",
        "    num_hidden_vars = 8,\n",
        "    num_neurons= 64,\n",
        "    batch_size= 128\n",
        ")\n",
        "\n",
        "# Print the results\n",
        "for key, value in results.items():\n",
        "    print(f\"{key}: {value:.4f}\")\n",
        "\n",
        "\n",
        "###########################################\n",
        "###########################################\n",
        "# Integrate 3 datasets\n",
        "###########################################\n",
        "###########################################\n",
        "\n",
        "# Run the Extended CXVAE  to integrate 3 datasets\n",
        "results = conditional_integration.EXTCXVAE(\n",
        "    dataset1=\"X1_3LS.csv\",\n",
        "    dataset2=\"X2_3LS.csv\",\n",
        "    dataset3=\"X2_3LS.csv\",\n",
        "    target =\"Y_3PP.csv\",\n",
        "    n_runs=num,\n",
        "    labels_dim = 3,\n",
        "    num_hidden_vars = 8,\n",
        "    num_neurons= 64,\n",
        "    batch_size= 64\n",
        ")\n",
        "\n",
        "# Print the results\n",
        "for key, value in results.items():\n",
        "    print(f\"{key}: {value:.4f}\")\n",
        "\n",
        "\n",
        "# Run the Extended XVAE  to integrate 3 datasets\n",
        "results = conditional_integration.EXTXVAE(\n",
        "    dataset1=\"X1_3LS.csv\",\n",
        "    dataset2=\"X2_3LS.csv\",\n",
        "    dataset3=\"X2_3LS.csv\",\n",
        "    target =\"Y_3PP.csv\",\n",
        "    n_runs=num,\n",
        "    labels_dim = 3,\n",
        "    num_hidden_vars = 8,\n",
        "    num_neurons= 64,\n",
        "    batch_size= 64\n",
        ")\n",
        "\n",
        "# Print the results\n",
        "for key, value in results.items():\n",
        "    print(f\"{key}: {value:.4f}\")\n",
        "\n",
        "\n",
        "###########################################\n",
        "###########################################\n",
        "# Integrate 2 datasets without lables\n",
        "###########################################\n",
        "###########################################\n",
        "\n",
        "# Run the XVAE\n",
        "results = conditional_integration.XVAE(\n",
        "    dataset1=\"X1LS.csv\",\n",
        "    dataset2=\"X2LS.csv\",\n",
        "    target =\"Y_PP.csv\",\n",
        "    n_runs=num,\n",
        "    labels_dim = 3,\n",
        "    num_hidden_vars = 32,\n",
        "    num_neurons= 64,\n",
        "    batch_size= 64\n",
        ")\n",
        "\n",
        "# Print the results\n",
        "for key, value in results.items():\n",
        "    print(f\"{key}: {value:.4f}\")\n",
        "\n",
        "\n",
        "# Run the MMVAE\n",
        "results = conditional_integration.MMVAE(\n",
        "    dataset1=\"X1LS.csv\",\n",
        "    dataset2=\"X2LS.csv\",\n",
        "    target =\"Y_PP.csv\",\n",
        "    n_runs=num,\n",
        "    labels_dim = 3,\n",
        "    num_hidden_vars = 8,\n",
        "    num_neurons= 64,\n",
        "    batch_size= 128\n",
        ")\n",
        "\n",
        "# Print the results\n",
        "for key, value in results.items():\n",
        "    print(f\"{key}: {value:.4f}\")\n",
        "\n",
        "###########################################\n",
        "###########################################\n",
        "# Apply single dataset to CVAE\n",
        "###########################################\n",
        "###########################################\n",
        "\n",
        "\n",
        "# Run the CXVAE single dataset\n",
        "results = conditional_integration.CXVAESD(\n",
        "    dataset=\"X1LS.csv\",\n",
        "    target =\"Y_PP.csv\",\n",
        "    n_runs=num,\n",
        "    labels_dim = 3,\n",
        "    num_hidden_vars = 6,\n",
        "    num_neurons= 64,\n",
        "    batch_size= 128\n",
        ")\n",
        "\n",
        "# Print the results\n",
        "for key, value in results.items():\n",
        "    print(f\"{key}: {value:.4f}\")\n",
        "\n",
        "###########################################\n",
        "###########################################\n",
        "# Integrate using traditional linear methods\n",
        "###########################################\n",
        "###########################################\n",
        "\n",
        "# Run the Concat\n",
        "results = conditional_integration.CONCAT(\n",
        "    dataset1=\"X1LS.csv\",\n",
        "    dataset2=\"X2LS.csv\",\n",
        "    target =\"Y_PP.csv\",\n",
        "    n_runs=num,\n",
        "    labels_dim = 5,\n",
        ")\n",
        "\n",
        "\n",
        "# Print the results\n",
        "for key, value in results.items():\n",
        "    print(f\"{key}: {value:.4f}\")\n",
        "\n",
        "# Run the PCA\n",
        "results = conditional_integration.PCA(\n",
        "    dataset1=\"X1LS.csv\",\n",
        "    dataset2=\"X2LS.csv\",\n",
        "    target =\"Y_PP.csv\",\n",
        "    n_runs=num,\n",
        "    labels_dim = 5,\n",
        ")\n",
        "\n",
        "\n",
        "# Print the results\n",
        "for key, value in results.items():\n",
        "    print(f\"{key}: {value:.4f}\")"
      ],
      "metadata": {
        "id": "fTHu6NQ0diDU",
        "colab": {
          "base_uri": "https://localhost:8080/"
        },
        "outputId": "01c0c3cf-577f-4969-df82-1c00bee2ee7e"
      },
      "execution_count": null,
      "outputs": [
        {
          "output_type": "stream",
          "name": "stdout",
          "text": [
            "\u001b[1m11/11\u001b[0m \u001b[32m━━━━━━━━━━━━━━━━━━━━\u001b[0m\u001b[37m\u001b[0m \u001b[1m1s\u001b[0m 28ms/step\n",
            "\u001b[1m5/5\u001b[0m \u001b[32m━━━━━━━━━━━━━━━━━━━━\u001b[0m\u001b[37m\u001b[0m \u001b[1m0s\u001b[0m 12ms/step\n",
            "Latent space saved to CSV files.\n"
          ]
        },
        {
          "output_type": "stream",
          "name": "stderr",
          "text": [
            "/usr/local/lib/python3.11/dist-packages/keras/src/layers/core/dense.py:87: UserWarning: Do not pass an `input_shape`/`input_dim` argument to a layer. When using Sequential models, prefer using an `Input(shape)` object as the first layer in the model instead.\n",
            "  super().__init__(activity_regularizer=activity_regularizer, **kwargs)\n"
          ]
        },
        {
          "output_type": "stream",
          "name": "stdout",
          "text": [
            "\u001b[1m5/5\u001b[0m \u001b[32m━━━━━━━━━━━━━━━━━━━━\u001b[0m\u001b[37m\u001b[0m \u001b[1m0s\u001b[0m 21ms/step\n",
            "Results from C XVAE Type 1 ArchitectureAverage Accuracy- Random Forest: 0.8933\n",
            "Standard Error of Accuracy- Random Forest: 0.0000\n",
            "Average F1 Score- Random Forest: 0.8926\n",
            "Standard Error of F1 Score- Random Forest: 0.0000\n",
            "Average Accuracy- Neural Network: 0.8933\n",
            "Standard Error of Accuracy- Neural Network: 0.0000\n",
            "Average F1 Score- Neural Network: 0.8845\n",
            "Standard Error of F1 Score- Neural Network: 0.0000\n",
            "Average Accuracy- Logistic Regression: 0.8933\n",
            "Standard Error of Accuracy- Logistic Regression: 0.0000\n",
            "Average F1 Score- Logistic Regression: 0.8869\n",
            "Standard Error of F1 Score- Logistic Regression: 0.0000\n",
            "Average Accuracy- Linear SVM: 0.9000\n",
            "Standard Error of Accuracy- Linear SVM: 0.0000\n",
            "Average F1 Score- Linear SVM: 0.8948\n",
            "Standard Error of F1 Score- Linear SVM: 0.0000\n",
            "Average Accuracy- Non Linear SVM: 0.8667\n",
            "Standard Error of Accuracy- Non Linear SVM: 0.0000\n",
            "Average F1 Score- Non Linear SVM: 0.8431\n",
            "Standard Error of F1 Score- Non Linear SVM: 0.0000\n",
            "Average Accuracy- Naive Bayes: 0.8467\n",
            "Standard Error of Accuracy- Naive Bayes: 0.0000\n",
            "Average F1 Score- Naive Bayes: 0.8481\n",
            "Standard Error of F1 Score- Naive Bayes: 0.0000\n"
          ]
        },
        {
          "output_type": "stream",
          "name": "stderr",
          "text": [
            "/usr/local/lib/python3.11/dist-packages/sklearn/linear_model/_logistic.py:1247: FutureWarning: 'multi_class' was deprecated in version 1.5 and will be removed in 1.7. From then on, it will always use 'multinomial'. Leave it to its default value to avoid this warning.\n",
            "  warnings.warn(\n"
          ]
        },
        {
          "output_type": "stream",
          "name": "stdout",
          "text": [
            "\u001b[1m11/11\u001b[0m \u001b[32m━━━━━━━━━━━━━━━━━━━━\u001b[0m\u001b[37m\u001b[0m \u001b[1m0s\u001b[0m 17ms/step\n",
            "\u001b[1m5/5\u001b[0m \u001b[32m━━━━━━━━━━━━━━━━━━━━\u001b[0m\u001b[37m\u001b[0m \u001b[1m0s\u001b[0m 9ms/step \n",
            "Latent space saved to CSV files.\n"
          ]
        },
        {
          "output_type": "stream",
          "name": "stderr",
          "text": [
            "/usr/local/lib/python3.11/dist-packages/keras/src/layers/core/dense.py:87: UserWarning: Do not pass an `input_shape`/`input_dim` argument to a layer. When using Sequential models, prefer using an `Input(shape)` object as the first layer in the model instead.\n",
            "  super().__init__(activity_regularizer=activity_regularizer, **kwargs)\n"
          ]
        },
        {
          "output_type": "stream",
          "name": "stdout",
          "text": [
            "\u001b[1m5/5\u001b[0m \u001b[32m━━━━━━━━━━━━━━━━━━━━\u001b[0m\u001b[37m\u001b[0m \u001b[1m0s\u001b[0m 18ms/step\n",
            "Results from C XVAE Type 1 ArchitectureAverage Accuracy- Random Forest: 0.6400\n",
            "Standard Error of Accuracy- Random Forest: 0.0000\n",
            "Average F1 Score- Random Forest: 0.6213\n",
            "Standard Error of F1 Score- Random Forest: 0.0000\n",
            "Average Accuracy- Neural Network: 0.5400\n",
            "Standard Error of Accuracy- Neural Network: 0.0000\n",
            "Average F1 Score- Neural Network: 0.4800\n",
            "Standard Error of F1 Score- Neural Network: 0.0000\n",
            "Average Accuracy- Logistic Regression: 0.6467\n",
            "Standard Error of Accuracy- Logistic Regression: 0.0000\n",
            "Average F1 Score- Logistic Regression: 0.6328\n",
            "Standard Error of F1 Score- Logistic Regression: 0.0000\n",
            "Average Accuracy- Linear SVM: 0.6000\n",
            "Standard Error of Accuracy- Linear SVM: 0.0000\n",
            "Average F1 Score- Linear SVM: 0.5490\n",
            "Standard Error of F1 Score- Linear SVM: 0.0000\n",
            "Average Accuracy- Non Linear SVM: 0.5667\n",
            "Standard Error of Accuracy- Non Linear SVM: 0.0000\n",
            "Average F1 Score- Non Linear SVM: 0.5019\n",
            "Standard Error of F1 Score- Non Linear SVM: 0.0000\n",
            "Average Accuracy- Naive Bayes: 0.6333\n",
            "Standard Error of Accuracy- Naive Bayes: 0.0000\n",
            "Average F1 Score- Naive Bayes: 0.6303\n",
            "Standard Error of F1 Score- Naive Bayes: 0.0000\n"
          ]
        },
        {
          "output_type": "stream",
          "name": "stderr",
          "text": [
            "/usr/local/lib/python3.11/dist-packages/sklearn/linear_model/_logistic.py:1247: FutureWarning: 'multi_class' was deprecated in version 1.5 and will be removed in 1.7. From then on, it will always use 'multinomial'. Leave it to its default value to avoid this warning.\n",
            "  warnings.warn(\n"
          ]
        },
        {
          "output_type": "stream",
          "name": "stdout",
          "text": [
            "\u001b[1m11/11\u001b[0m \u001b[32m━━━━━━━━━━━━━━━━━━━━\u001b[0m\u001b[37m\u001b[0m \u001b[1m0s\u001b[0m 21ms/step\n",
            "\u001b[1m5/5\u001b[0m \u001b[32m━━━━━━━━━━━━━━━━━━━━\u001b[0m\u001b[37m\u001b[0m \u001b[1m0s\u001b[0m 8ms/step \n",
            "Latent space saved to CSV files.\n"
          ]
        },
        {
          "output_type": "stream",
          "name": "stderr",
          "text": [
            "/usr/local/lib/python3.11/dist-packages/keras/src/layers/core/dense.py:87: UserWarning: Do not pass an `input_shape`/`input_dim` argument to a layer. When using Sequential models, prefer using an `Input(shape)` object as the first layer in the model instead.\n",
            "  super().__init__(activity_regularizer=activity_regularizer, **kwargs)\n"
          ]
        },
        {
          "output_type": "stream",
          "name": "stdout",
          "text": [
            "\u001b[1m5/5\u001b[0m \u001b[32m━━━━━━━━━━━━━━━━━━━━\u001b[0m\u001b[37m\u001b[0m \u001b[1m0s\u001b[0m 16ms/step\n",
            "Results from C XVAE Type 1 ArchitectureAverage Accuracy- Random Forest: 0.8800\n",
            "Standard Error of Accuracy- Random Forest: 0.0000\n",
            "Average F1 Score- Random Forest: 0.8775\n",
            "Standard Error of F1 Score- Random Forest: 0.0000\n",
            "Average Accuracy- Neural Network: 0.9067\n",
            "Standard Error of Accuracy- Neural Network: 0.0000\n",
            "Average F1 Score- Neural Network: 0.9069\n",
            "Standard Error of F1 Score- Neural Network: 0.0000\n",
            "Average Accuracy- Logistic Regression: 0.8533\n",
            "Standard Error of Accuracy- Logistic Regression: 0.0000\n",
            "Average F1 Score- Logistic Regression: 0.8398\n",
            "Standard Error of F1 Score- Logistic Regression: 0.0000\n",
            "Average Accuracy- Linear SVM: 0.9133\n",
            "Standard Error of Accuracy- Linear SVM: 0.0000\n",
            "Average F1 Score- Linear SVM: 0.9115\n",
            "Standard Error of F1 Score- Linear SVM: 0.0000\n",
            "Average Accuracy- Non Linear SVM: 0.7533\n",
            "Standard Error of Accuracy- Non Linear SVM: 0.0000\n",
            "Average F1 Score- Non Linear SVM: 0.6710\n",
            "Standard Error of F1 Score- Non Linear SVM: 0.0000\n",
            "Average Accuracy- Naive Bayes: 0.9000\n",
            "Standard Error of Accuracy- Naive Bayes: 0.0000\n",
            "Average F1 Score- Naive Bayes: 0.9002\n",
            "Standard Error of F1 Score- Naive Bayes: 0.0000\n"
          ]
        },
        {
          "output_type": "stream",
          "name": "stderr",
          "text": [
            "/usr/local/lib/python3.11/dist-packages/sklearn/linear_model/_logistic.py:1247: FutureWarning: 'multi_class' was deprecated in version 1.5 and will be removed in 1.7. From then on, it will always use 'multinomial'. Leave it to its default value to avoid this warning.\n",
            "  warnings.warn(\n"
          ]
        },
        {
          "output_type": "stream",
          "name": "stdout",
          "text": [
            "\u001b[1m11/11\u001b[0m \u001b[32m━━━━━━━━━━━━━━━━━━━━\u001b[0m\u001b[37m\u001b[0m \u001b[1m1s\u001b[0m 25ms/step\n",
            "\u001b[1m5/5\u001b[0m \u001b[32m━━━━━━━━━━━━━━━━━━━━\u001b[0m\u001b[37m\u001b[0m \u001b[1m0s\u001b[0m 10ms/step\n",
            "Latent space saved to CSV files.\n"
          ]
        },
        {
          "output_type": "stream",
          "name": "stderr",
          "text": [
            "/usr/local/lib/python3.11/dist-packages/keras/src/layers/core/dense.py:87: UserWarning: Do not pass an `input_shape`/`input_dim` argument to a layer. When using Sequential models, prefer using an `Input(shape)` object as the first layer in the model instead.\n",
            "  super().__init__(activity_regularizer=activity_regularizer, **kwargs)\n"
          ]
        },
        {
          "output_type": "stream",
          "name": "stdout",
          "text": [
            "\u001b[1m5/5\u001b[0m \u001b[32m━━━━━━━━━━━━━━━━━━━━\u001b[0m\u001b[37m\u001b[0m \u001b[1m0s\u001b[0m 17ms/step\n",
            "Results from Extened CXVAE ArchitectureAverage Accuracy- Random Forest: 0.9400\n",
            "Standard Error of Accuracy- Random Forest: 0.0000\n",
            "Average F1 Score- Random Forest: 0.9396\n",
            "Standard Error of F1 Score- Random Forest: 0.0000\n",
            "Average Accuracy- Neural Network: 0.9200\n",
            "Standard Error of Accuracy- Neural Network: 0.0000\n",
            "Average F1 Score- Neural Network: 0.9198\n",
            "Standard Error of F1 Score- Neural Network: 0.0000\n",
            "Average Accuracy- Logistic Regression: 0.9600\n",
            "Standard Error of Accuracy- Logistic Regression: 0.0000\n",
            "Average F1 Score- Logistic Regression: 0.9595\n",
            "Standard Error of F1 Score- Logistic Regression: 0.0000\n",
            "Average Accuracy- Linear SVM: 0.9733\n",
            "Standard Error of Accuracy- Linear SVM: 0.0000\n",
            "Average F1 Score- Linear SVM: 0.9732\n",
            "Standard Error of F1 Score- Linear SVM: 0.0000\n",
            "Average Accuracy- Non Linear SVM: 0.9733\n",
            "Standard Error of Accuracy- Non Linear SVM: 0.0000\n",
            "Average F1 Score- Non Linear SVM: 0.9732\n",
            "Standard Error of F1 Score- Non Linear SVM: 0.0000\n",
            "Average Accuracy- Naive Bayes: 0.9600\n",
            "Standard Error of Accuracy- Naive Bayes: 0.0000\n",
            "Average F1 Score- Naive Bayes: 0.9603\n",
            "Standard Error of F1 Score- Naive Bayes: 0.0000\n"
          ]
        },
        {
          "output_type": "stream",
          "name": "stderr",
          "text": [
            "/usr/local/lib/python3.11/dist-packages/sklearn/linear_model/_logistic.py:1247: FutureWarning: 'multi_class' was deprecated in version 1.5 and will be removed in 1.7. From then on, it will always use 'multinomial'. Leave it to its default value to avoid this warning.\n",
            "  warnings.warn(\n"
          ]
        },
        {
          "output_type": "stream",
          "name": "stdout",
          "text": [
            "\u001b[1m11/11\u001b[0m \u001b[32m━━━━━━━━━━━━━━━━━━━━\u001b[0m\u001b[37m\u001b[0m \u001b[1m0s\u001b[0m 23ms/step\n",
            "\u001b[1m5/5\u001b[0m \u001b[32m━━━━━━━━━━━━━━━━━━━━\u001b[0m\u001b[37m\u001b[0m \u001b[1m0s\u001b[0m 8ms/step \n",
            "Latent space saved to CSV files.\n"
          ]
        },
        {
          "output_type": "stream",
          "name": "stderr",
          "text": [
            "/usr/local/lib/python3.11/dist-packages/keras/src/layers/core/dense.py:87: UserWarning: Do not pass an `input_shape`/`input_dim` argument to a layer. When using Sequential models, prefer using an `Input(shape)` object as the first layer in the model instead.\n",
            "  super().__init__(activity_regularizer=activity_regularizer, **kwargs)\n"
          ]
        },
        {
          "output_type": "stream",
          "name": "stdout",
          "text": [
            "\u001b[1m5/5\u001b[0m \u001b[32m━━━━━━━━━━━━━━━━━━━━\u001b[0m\u001b[37m\u001b[0m \u001b[1m0s\u001b[0m 21ms/step\n",
            "Results from Extened CXVAE ArchitectureAverage Accuracy- Random Forest: 0.5400\n",
            "Standard Error of Accuracy- Random Forest: 0.0000\n",
            "Average F1 Score- Random Forest: 0.4632\n",
            "Standard Error of F1 Score- Random Forest: 0.0000\n",
            "Average Accuracy- Neural Network: 0.5133\n",
            "Standard Error of Accuracy- Neural Network: 0.0000\n",
            "Average F1 Score- Neural Network: 0.4235\n",
            "Standard Error of F1 Score- Neural Network: 0.0000\n",
            "Average Accuracy- Logistic Regression: 0.6067\n",
            "Standard Error of Accuracy- Logistic Regression: 0.0000\n",
            "Average F1 Score- Logistic Regression: 0.5304\n",
            "Standard Error of F1 Score- Logistic Regression: 0.0000\n",
            "Average Accuracy- Linear SVM: 0.5867\n",
            "Standard Error of Accuracy- Linear SVM: 0.0000\n",
            "Average F1 Score- Linear SVM: 0.5090\n",
            "Standard Error of F1 Score- Linear SVM: 0.0000\n",
            "Average Accuracy- Non Linear SVM: 0.5400\n",
            "Standard Error of Accuracy- Non Linear SVM: 0.0000\n",
            "Average F1 Score- Non Linear SVM: 0.4540\n",
            "Standard Error of F1 Score- Non Linear SVM: 0.0000\n",
            "Average Accuracy- Naive Bayes: 0.5667\n",
            "Standard Error of Accuracy- Naive Bayes: 0.0000\n",
            "Average F1 Score- Naive Bayes: 0.5472\n",
            "Standard Error of F1 Score- Naive Bayes: 0.0000\n"
          ]
        },
        {
          "output_type": "stream",
          "name": "stderr",
          "text": [
            "/usr/local/lib/python3.11/dist-packages/sklearn/linear_model/_logistic.py:1247: FutureWarning: 'multi_class' was deprecated in version 1.5 and will be removed in 1.7. From then on, it will always use 'multinomial'. Leave it to its default value to avoid this warning.\n",
            "  warnings.warn(\n"
          ]
        },
        {
          "output_type": "stream",
          "name": "stdout",
          "text": [
            "\u001b[1m11/11\u001b[0m \u001b[32m━━━━━━━━━━━━━━━━━━━━\u001b[0m\u001b[37m\u001b[0m \u001b[1m0s\u001b[0m 19ms/step\n",
            "\u001b[1m5/5\u001b[0m \u001b[32m━━━━━━━━━━━━━━━━━━━━\u001b[0m\u001b[37m\u001b[0m \u001b[1m0s\u001b[0m 8ms/step \n",
            "Latent space saved to CSV files.\n"
          ]
        },
        {
          "output_type": "stream",
          "name": "stderr",
          "text": [
            "/usr/local/lib/python3.11/dist-packages/keras/src/layers/core/dense.py:87: UserWarning: Do not pass an `input_shape`/`input_dim` argument to a layer. When using Sequential models, prefer using an `Input(shape)` object as the first layer in the model instead.\n",
            "  super().__init__(activity_regularizer=activity_regularizer, **kwargs)\n"
          ]
        },
        {
          "output_type": "stream",
          "name": "stdout",
          "text": [
            "\u001b[1m5/5\u001b[0m \u001b[32m━━━━━━━━━━━━━━━━━━━━\u001b[0m\u001b[37m\u001b[0m \u001b[1m0s\u001b[0m 19ms/step\n",
            "Results from C XVAE Type 1 ArchitectureAverage Accuracy- Random Forest: 0.4333\n",
            "Standard Error of Accuracy- Random Forest: 0.0000\n",
            "Average F1 Score- Random Forest: 0.3461\n",
            "Standard Error of F1 Score- Random Forest: 0.0000\n",
            "Average Accuracy- Neural Network: 0.4667\n",
            "Standard Error of Accuracy- Neural Network: 0.0000\n",
            "Average F1 Score- Neural Network: 0.4339\n",
            "Standard Error of F1 Score- Neural Network: 0.0000\n",
            "Average Accuracy- Logistic Regression: 0.5333\n",
            "Standard Error of Accuracy- Logistic Regression: 0.0000\n",
            "Average F1 Score- Logistic Regression: 0.4736\n",
            "Standard Error of F1 Score- Logistic Regression: 0.0000\n",
            "Average Accuracy- Linear SVM: 0.5133\n",
            "Standard Error of Accuracy- Linear SVM: 0.0000\n",
            "Average F1 Score- Linear SVM: 0.4549\n",
            "Standard Error of F1 Score- Linear SVM: 0.0000\n",
            "Average Accuracy- Non Linear SVM: 0.4133\n",
            "Standard Error of Accuracy- Non Linear SVM: 0.0000\n",
            "Average F1 Score- Non Linear SVM: 0.2418\n",
            "Standard Error of F1 Score- Non Linear SVM: 0.0000\n",
            "Average Accuracy- Naive Bayes: 0.4800\n",
            "Standard Error of Accuracy- Naive Bayes: 0.0000\n",
            "Average F1 Score- Naive Bayes: 0.4818\n",
            "Standard Error of F1 Score- Naive Bayes: 0.0000\n"
          ]
        },
        {
          "output_type": "stream",
          "name": "stderr",
          "text": [
            "/usr/local/lib/python3.11/dist-packages/sklearn/linear_model/_logistic.py:1247: FutureWarning: 'multi_class' was deprecated in version 1.5 and will be removed in 1.7. From then on, it will always use 'multinomial'. Leave it to its default value to avoid this warning.\n",
            "  warnings.warn(\n"
          ]
        },
        {
          "output_type": "stream",
          "name": "stdout",
          "text": [
            "\u001b[1m11/11\u001b[0m \u001b[32m━━━━━━━━━━━━━━━━━━━━\u001b[0m\u001b[37m\u001b[0m \u001b[1m0s\u001b[0m 21ms/step\n",
            "\u001b[1m5/5\u001b[0m \u001b[32m━━━━━━━━━━━━━━━━━━━━\u001b[0m\u001b[37m\u001b[0m \u001b[1m0s\u001b[0m 9ms/step \n",
            "Latent space saved to CSV files.\n"
          ]
        },
        {
          "output_type": "stream",
          "name": "stderr",
          "text": [
            "/usr/local/lib/python3.11/dist-packages/keras/src/layers/core/dense.py:87: UserWarning: Do not pass an `input_shape`/`input_dim` argument to a layer. When using Sequential models, prefer using an `Input(shape)` object as the first layer in the model instead.\n",
            "  super().__init__(activity_regularizer=activity_regularizer, **kwargs)\n"
          ]
        },
        {
          "output_type": "stream",
          "name": "stdout",
          "text": [
            "\u001b[1m5/5\u001b[0m \u001b[32m━━━━━━━━━━━━━━━━━━━━\u001b[0m\u001b[37m\u001b[0m \u001b[1m0s\u001b[0m 19ms/step\n",
            "Results from C XVAE Type 1 ArchitectureAverage Accuracy- Random Forest: 0.4333\n",
            "Standard Error of Accuracy- Random Forest: 0.0000\n",
            "Average F1 Score- Random Forest: 0.3674\n",
            "Standard Error of F1 Score- Random Forest: 0.0000\n",
            "Average Accuracy- Neural Network: 0.4333\n",
            "Standard Error of Accuracy- Neural Network: 0.0000\n",
            "Average F1 Score- Neural Network: 0.3921\n",
            "Standard Error of F1 Score- Neural Network: 0.0000\n",
            "Average Accuracy- Logistic Regression: 0.5200\n",
            "Standard Error of Accuracy- Logistic Regression: 0.0000\n",
            "Average F1 Score- Logistic Regression: 0.4552\n",
            "Standard Error of F1 Score- Logistic Regression: 0.0000\n",
            "Average Accuracy- Linear SVM: 0.4133\n",
            "Standard Error of Accuracy- Linear SVM: 0.0000\n",
            "Average F1 Score- Linear SVM: 0.2418\n",
            "Standard Error of F1 Score- Linear SVM: 0.0000\n",
            "Average Accuracy- Non Linear SVM: 0.4133\n",
            "Standard Error of Accuracy- Non Linear SVM: 0.0000\n",
            "Average F1 Score- Non Linear SVM: 0.2418\n",
            "Standard Error of F1 Score- Non Linear SVM: 0.0000\n",
            "Average Accuracy- Naive Bayes: 0.3933\n",
            "Standard Error of Accuracy- Naive Bayes: 0.0000\n",
            "Average F1 Score- Naive Bayes: 0.3752\n",
            "Standard Error of F1 Score- Naive Bayes: 0.0000\n"
          ]
        },
        {
          "output_type": "stream",
          "name": "stderr",
          "text": [
            "/usr/local/lib/python3.11/dist-packages/sklearn/linear_model/_logistic.py:1247: FutureWarning: 'multi_class' was deprecated in version 1.5 and will be removed in 1.7. From then on, it will always use 'multinomial'. Leave it to its default value to avoid this warning.\n",
            "  warnings.warn(\n"
          ]
        },
        {
          "output_type": "stream",
          "name": "stdout",
          "text": [
            "\u001b[1m11/11\u001b[0m \u001b[32m━━━━━━━━━━━━━━━━━━━━\u001b[0m\u001b[37m\u001b[0m \u001b[1m0s\u001b[0m 25ms/step\n",
            "\u001b[1m5/5\u001b[0m \u001b[32m━━━━━━━━━━━━━━━━━━━━\u001b[0m\u001b[37m\u001b[0m \u001b[1m0s\u001b[0m 7ms/step \n",
            "Latent space saved to CSV files.\n"
          ]
        },
        {
          "output_type": "stream",
          "name": "stderr",
          "text": [
            "/usr/local/lib/python3.11/dist-packages/keras/src/layers/core/dense.py:87: UserWarning: Do not pass an `input_shape`/`input_dim` argument to a layer. When using Sequential models, prefer using an `Input(shape)` object as the first layer in the model instead.\n",
            "  super().__init__(activity_regularizer=activity_regularizer, **kwargs)\n"
          ]
        },
        {
          "output_type": "stream",
          "name": "stdout",
          "text": [
            "\u001b[1m5/5\u001b[0m \u001b[32m━━━━━━━━━━━━━━━━━━━━\u001b[0m\u001b[37m\u001b[0m \u001b[1m0s\u001b[0m 17ms/step\n",
            "Results from C XVAE Type 1 ArchitectureAverage Accuracy- Random Forest: 0.8400\n",
            "Standard Error of Accuracy- Random Forest: 0.0000\n",
            "Average F1 Score- Random Forest: 0.8314\n",
            "Standard Error of F1 Score- Random Forest: 0.0000\n",
            "Average Accuracy- Neural Network: 0.8933\n",
            "Standard Error of Accuracy- Neural Network: 0.0000\n",
            "Average F1 Score- Neural Network: 0.8932\n",
            "Standard Error of F1 Score- Neural Network: 0.0000\n",
            "Average Accuracy- Logistic Regression: 0.8600\n",
            "Standard Error of Accuracy- Logistic Regression: 0.0000\n",
            "Average F1 Score- Logistic Regression: 0.8522\n",
            "Standard Error of F1 Score- Logistic Regression: 0.0000\n",
            "Average Accuracy- Linear SVM: 0.8867\n",
            "Standard Error of Accuracy- Linear SVM: 0.0000\n",
            "Average F1 Score- Linear SVM: 0.8825\n",
            "Standard Error of F1 Score- Linear SVM: 0.0000\n",
            "Average Accuracy- Non Linear SVM: 0.8733\n",
            "Standard Error of Accuracy- Non Linear SVM: 0.0000\n",
            "Average F1 Score- Non Linear SVM: 0.8650\n",
            "Standard Error of F1 Score- Non Linear SVM: 0.0000\n",
            "Average Accuracy- Naive Bayes: 0.8933\n",
            "Standard Error of Accuracy- Naive Bayes: 0.0000\n",
            "Average F1 Score- Naive Bayes: 0.8909\n",
            "Standard Error of F1 Score- Naive Bayes: 0.0000\n"
          ]
        },
        {
          "output_type": "stream",
          "name": "stderr",
          "text": [
            "/usr/local/lib/python3.11/dist-packages/sklearn/linear_model/_logistic.py:1247: FutureWarning: 'multi_class' was deprecated in version 1.5 and will be removed in 1.7. From then on, it will always use 'multinomial'. Leave it to its default value to avoid this warning.\n",
            "  warnings.warn(\n",
            "/usr/local/lib/python3.11/dist-packages/keras/src/layers/core/dense.py:87: UserWarning: Do not pass an `input_shape`/`input_dim` argument to a layer. When using Sequential models, prefer using an `Input(shape)` object as the first layer in the model instead.\n",
            "  super().__init__(activity_regularizer=activity_regularizer, **kwargs)\n"
          ]
        },
        {
          "output_type": "stream",
          "name": "stdout",
          "text": [
            "\u001b[1m5/5\u001b[0m \u001b[32m━━━━━━━━━━━━━━━━━━━━\u001b[0m\u001b[37m\u001b[0m \u001b[1m0s\u001b[0m 19ms/step\n"
          ]
        },
        {
          "output_type": "stream",
          "name": "stderr",
          "text": [
            "/usr/local/lib/python3.11/dist-packages/sklearn/linear_model/_logistic.py:1247: FutureWarning: 'multi_class' was deprecated in version 1.5 and will be removed in 1.7. From then on, it will always use 'multinomial'. Leave it to its default value to avoid this warning.\n",
            "  warnings.warn(\n"
          ]
        },
        {
          "output_type": "stream",
          "name": "stdout",
          "text": [
            "Results from C XVAE Type 1 ArchitectureAverage Accuracy- Random Forest: 0.5733\n",
            "Standard Error of Accuracy- Random Forest: 0.0000\n",
            "Average F1 Score- Random Forest: 0.4989\n",
            "Standard Error of F1 Score- Random Forest: 0.0000\n",
            "Average Accuracy- Neural Network: 0.6467\n",
            "Standard Error of Accuracy- Neural Network: 0.0000\n",
            "Average F1 Score- Neural Network: 0.6304\n",
            "Standard Error of F1 Score- Neural Network: 0.0000\n",
            "Average Accuracy- Logistic Regression: 0.6400\n",
            "Standard Error of Accuracy- Logistic Regression: 0.0000\n",
            "Average F1 Score- Logistic Regression: 0.6340\n",
            "Standard Error of F1 Score- Logistic Regression: 0.0000\n",
            "Average Accuracy- Linear SVM: 0.5933\n",
            "Standard Error of Accuracy- Linear SVM: 0.0000\n",
            "Average F1 Score- Linear SVM: 0.5942\n",
            "Standard Error of F1 Score- Linear SVM: 0.0000\n",
            "Average Accuracy- Non Linear SVM: 0.4533\n",
            "Standard Error of Accuracy- Non Linear SVM: 0.0000\n",
            "Average F1 Score- Non Linear SVM: 0.3214\n",
            "Standard Error of F1 Score- Non Linear SVM: 0.0000\n",
            "Average Accuracy- Naive Bayes: 0.7333\n",
            "Standard Error of Accuracy- Naive Bayes: 0.0000\n",
            "Average F1 Score- Naive Bayes: 0.7273\n",
            "Standard Error of F1 Score- Naive Bayes: 0.0000\n"
          ]
        },
        {
          "output_type": "stream",
          "name": "stderr",
          "text": [
            "/usr/local/lib/python3.11/dist-packages/keras/src/layers/core/dense.py:87: UserWarning: Do not pass an `input_shape`/`input_dim` argument to a layer. When using Sequential models, prefer using an `Input(shape)` object as the first layer in the model instead.\n",
            "  super().__init__(activity_regularizer=activity_regularizer, **kwargs)\n"
          ]
        },
        {
          "output_type": "stream",
          "name": "stdout",
          "text": [
            "\u001b[1m5/5\u001b[0m \u001b[32m━━━━━━━━━━━━━━━━━━━━\u001b[0m\u001b[37m\u001b[0m \u001b[1m0s\u001b[0m 16ms/step\n",
            "Results from C XVAE Type 1 ArchitectureAverage Accuracy- Random Forest: 0.5533\n",
            "Standard Error of Accuracy- Random Forest: 0.0000\n",
            "Average F1 Score- Random Forest: 0.4799\n",
            "Standard Error of F1 Score- Random Forest: 0.0000\n",
            "Average Accuracy- Neural Network: 0.4600\n",
            "Standard Error of Accuracy- Neural Network: 0.0000\n",
            "Average F1 Score- Neural Network: 0.4567\n",
            "Standard Error of F1 Score- Neural Network: 0.0000\n",
            "Average Accuracy- Logistic Regression: 0.6600\n",
            "Standard Error of Accuracy- Logistic Regression: 0.0000\n",
            "Average F1 Score- Logistic Regression: 0.6483\n",
            "Standard Error of F1 Score- Logistic Regression: 0.0000\n",
            "Average Accuracy- Linear SVM: 0.6333\n",
            "Standard Error of Accuracy- Linear SVM: 0.0000\n",
            "Average F1 Score- Linear SVM: 0.6323\n",
            "Standard Error of F1 Score- Linear SVM: 0.0000\n",
            "Average Accuracy- Non Linear SVM: 0.5733\n",
            "Standard Error of Accuracy- Non Linear SVM: 0.0000\n",
            "Average F1 Score- Non Linear SVM: 0.4958\n",
            "Standard Error of F1 Score- Non Linear SVM: 0.0000\n",
            "Average Accuracy- Naive Bayes: 0.5200\n",
            "Standard Error of Accuracy- Naive Bayes: 0.0000\n",
            "Average F1 Score- Naive Bayes: 0.4992\n",
            "Standard Error of F1 Score- Naive Bayes: 0.0000\n"
          ]
        },
        {
          "output_type": "stream",
          "name": "stderr",
          "text": [
            "/usr/local/lib/python3.11/dist-packages/sklearn/linear_model/_logistic.py:1247: FutureWarning: 'multi_class' was deprecated in version 1.5 and will be removed in 1.7. From then on, it will always use 'multinomial'. Leave it to its default value to avoid this warning.\n",
            "  warnings.warn(\n"
          ]
        }
      ]
    }
  ],
  "metadata": {
    "colab": {
      "provenance": []
    },
    "kernelspec": {
      "display_name": "Python 3",
      "name": "python3"
    },
    "language_info": {
      "name": "python"
    }
  },
  "nbformat": 4,
  "nbformat_minor": 0
}