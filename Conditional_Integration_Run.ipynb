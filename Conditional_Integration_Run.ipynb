{
  "cells": [
    {
      "cell_type": "markdown",
      "metadata": {
        "id": "vc5erOr1_ZDO"
      },
      "source": [
        "*********************************\n",
        "Running code for METABRIC dataset\n",
        "*********************************"
      ]
    },
    {
      "cell_type": "code",
      "execution_count": null,
      "metadata": {
        "colab": {
          "base_uri": "https://localhost:8080/"
        },
        "id": "efSpCwY6qZ0u",
        "outputId": "8c9774e3-5ac4-4a96-f5bd-76db8815417b"
      },
      "outputs": [
        {
          "name": "stdout",
          "output_type": "stream",
          "text": [
            "\u001b[1m44/44\u001b[0m \u001b[32m━━━━━━━━━━━━━━━━━━━━\u001b[0m\u001b[37m\u001b[0m \u001b[1m0s\u001b[0m 6ms/step\n",
            "\u001b[1m19/19\u001b[0m \u001b[32m━━━━━━━━━━━━━━━━━━━━\u001b[0m\u001b[37m\u001b[0m \u001b[1m0s\u001b[0m 5ms/step\n",
            "Latent space saved to CSV files.\n"
          ]
        },
        {
          "name": "stderr",
          "output_type": "stream",
          "text": [
            "/usr/local/lib/python3.11/dist-packages/sklearn/base.py:1389: DataConversionWarning: A column-vector y was passed when a 1d array was expected. Please change the shape of y to (n_samples,), for example using ravel().\n",
            "  return fit_method(estimator, *args, **kwargs)\n",
            "/usr/local/lib/python3.11/dist-packages/keras/src/layers/core/dense.py:87: UserWarning: Do not pass an `input_shape`/`input_dim` argument to a layer. When using Sequential models, prefer using an `Input(shape)` object as the first layer in the model instead.\n",
            "  super().__init__(activity_regularizer=activity_regularizer, **kwargs)\n"
          ]
        },
        {
          "name": "stdout",
          "output_type": "stream",
          "text": [
            "\u001b[1m19/19\u001b[0m \u001b[32m━━━━━━━━━━━━━━━━━━━━\u001b[0m\u001b[37m\u001b[0m \u001b[1m0s\u001b[0m 5ms/step\n"
          ]
        },
        {
          "name": "stderr",
          "output_type": "stream",
          "text": [
            "/usr/local/lib/python3.11/dist-packages/sklearn/linear_model/_logistic.py:1247: FutureWarning: 'multi_class' was deprecated in version 1.5 and will be removed in 1.7. From then on, it will always use 'multinomial'. Leave it to its default value to avoid this warning.\n",
            "  warnings.warn(\n",
            "/usr/local/lib/python3.11/dist-packages/sklearn/utils/validation.py:1408: DataConversionWarning: A column-vector y was passed when a 1d array was expected. Please change the shape of y to (n_samples, ), for example using ravel().\n",
            "  y = column_or_1d(y, warn=True)\n",
            "/usr/local/lib/python3.11/dist-packages/sklearn/utils/validation.py:1408: DataConversionWarning: A column-vector y was passed when a 1d array was expected. Please change the shape of y to (n_samples, ), for example using ravel().\n",
            "  y = column_or_1d(y, warn=True)\n",
            "/usr/local/lib/python3.11/dist-packages/sklearn/utils/validation.py:1408: DataConversionWarning: A column-vector y was passed when a 1d array was expected. Please change the shape of y to (n_samples, ), for example using ravel().\n",
            "  y = column_or_1d(y, warn=True)\n"
          ]
        },
        {
          "name": "stdout",
          "output_type": "stream",
          "text": [
            "Results from C XVAE Type 1 ArchitectureAverage Accuracy- Random Forest: 0.9292\n",
            "Standard Error of Accuracy- Random Forest: 0.0000\n",
            "Average F1 Score- Random Forest: 0.9253\n",
            "Standard Error of F1 Score- Random Forest: 0.0000\n",
            "Average Accuracy- Neural Network: 0.9511\n",
            "Standard Error of Accuracy- Neural Network: 0.0000\n",
            "Average F1 Score- Neural Network: 0.9478\n",
            "Standard Error of F1 Score- Neural Network: 0.0000\n",
            "Average Accuracy- Logistic Regression: 0.9730\n",
            "Standard Error of Accuracy- Logistic Regression: 0.0000\n",
            "Average F1 Score- Logistic Regression: 0.9724\n",
            "Standard Error of F1 Score- Logistic Regression: 0.0000\n",
            "Average Accuracy- Linear SVM: 0.9865\n",
            "Standard Error of Accuracy- Linear SVM: 0.0000\n",
            "Average F1 Score- Linear SVM: 0.9863\n",
            "Standard Error of F1 Score- Linear SVM: 0.0000\n",
            "Average Accuracy- Non Linear SVM: 0.9545\n",
            "Standard Error of Accuracy- Non Linear SVM: 0.0000\n",
            "Average F1 Score- Non Linear SVM: 0.9521\n",
            "Standard Error of F1 Score- Non Linear SVM: 0.0000\n",
            "Average Accuracy- Naive Bayes: 0.7976\n",
            "Standard Error of Accuracy- Naive Bayes: 0.0000\n",
            "Average F1 Score- Naive Bayes: 0.7951\n",
            "Standard Error of F1 Score- Naive Bayes: 0.0000\n",
            "\u001b[1m44/44\u001b[0m \u001b[32m━━━━━━━━━━━━━━━━━━━━\u001b[0m\u001b[37m\u001b[0m \u001b[1m0s\u001b[0m 6ms/step\n",
            "\u001b[1m19/19\u001b[0m \u001b[32m━━━━━━━━━━━━━━━━━━━━\u001b[0m\u001b[37m\u001b[0m \u001b[1m0s\u001b[0m 3ms/step \n",
            "Latent space saved to CSV files.\n"
          ]
        },
        {
          "name": "stderr",
          "output_type": "stream",
          "text": [
            "/usr/local/lib/python3.11/dist-packages/sklearn/base.py:1389: DataConversionWarning: A column-vector y was passed when a 1d array was expected. Please change the shape of y to (n_samples,), for example using ravel().\n",
            "  return fit_method(estimator, *args, **kwargs)\n",
            "/usr/local/lib/python3.11/dist-packages/keras/src/layers/core/dense.py:87: UserWarning: Do not pass an `input_shape`/`input_dim` argument to a layer. When using Sequential models, prefer using an `Input(shape)` object as the first layer in the model instead.\n",
            "  super().__init__(activity_regularizer=activity_regularizer, **kwargs)\n"
          ]
        },
        {
          "name": "stdout",
          "output_type": "stream",
          "text": [
            "\u001b[1m19/19\u001b[0m \u001b[32m━━━━━━━━━━━━━━━━━━━━\u001b[0m\u001b[37m\u001b[0m \u001b[1m0s\u001b[0m 6ms/step\n"
          ]
        },
        {
          "name": "stderr",
          "output_type": "stream",
          "text": [
            "/usr/local/lib/python3.11/dist-packages/sklearn/linear_model/_logistic.py:1247: FutureWarning: 'multi_class' was deprecated in version 1.5 and will be removed in 1.7. From then on, it will always use 'multinomial'. Leave it to its default value to avoid this warning.\n",
            "  warnings.warn(\n",
            "/usr/local/lib/python3.11/dist-packages/sklearn/linear_model/_logistic.py:465: ConvergenceWarning: lbfgs failed to converge (status=1):\n",
            "STOP: TOTAL NO. OF ITERATIONS REACHED LIMIT.\n",
            "\n",
            "Increase the number of iterations (max_iter) or scale the data as shown in:\n",
            "    https://scikit-learn.org/stable/modules/preprocessing.html\n",
            "Please also refer to the documentation for alternative solver options:\n",
            "    https://scikit-learn.org/stable/modules/linear_model.html#logistic-regression\n",
            "  n_iter_i = _check_optimize_result(\n",
            "/usr/local/lib/python3.11/dist-packages/sklearn/utils/validation.py:1408: DataConversionWarning: A column-vector y was passed when a 1d array was expected. Please change the shape of y to (n_samples, ), for example using ravel().\n",
            "  y = column_or_1d(y, warn=True)\n",
            "/usr/local/lib/python3.11/dist-packages/sklearn/utils/validation.py:1408: DataConversionWarning: A column-vector y was passed when a 1d array was expected. Please change the shape of y to (n_samples, ), for example using ravel().\n",
            "  y = column_or_1d(y, warn=True)\n",
            "/usr/local/lib/python3.11/dist-packages/sklearn/utils/validation.py:1408: DataConversionWarning: A column-vector y was passed when a 1d array was expected. Please change the shape of y to (n_samples, ), for example using ravel().\n",
            "  y = column_or_1d(y, warn=True)\n"
          ]
        },
        {
          "name": "stdout",
          "output_type": "stream",
          "text": [
            "Results from C XVAE Type 2 ArchitectureAverage Accuracy- Random Forest: 0.7201\n",
            "Standard Error of Accuracy- Random Forest: 0.0000\n",
            "Average F1 Score- Random Forest: 0.7146\n",
            "Standard Error of F1 Score- Random Forest: 0.0000\n",
            "Average Accuracy- Neural Network: 0.7808\n",
            "Standard Error of Accuracy- Neural Network: 0.0000\n",
            "Average F1 Score- Neural Network: 0.7816\n",
            "Standard Error of F1 Score- Neural Network: 0.0000\n",
            "Average Accuracy- Logistic Regression: 0.7690\n",
            "Standard Error of Accuracy- Logistic Regression: 0.0000\n",
            "Average F1 Score- Logistic Regression: 0.7603\n",
            "Standard Error of F1 Score- Logistic Regression: 0.0000\n",
            "Average Accuracy- Linear SVM: 0.7943\n",
            "Standard Error of Accuracy- Linear SVM: 0.0000\n",
            "Average F1 Score- Linear SVM: 0.7884\n",
            "Standard Error of F1 Score- Linear SVM: 0.0000\n",
            "Average Accuracy- Non Linear SVM: 0.6172\n",
            "Standard Error of Accuracy- Non Linear SVM: 0.0000\n",
            "Average F1 Score- Non Linear SVM: 0.5694\n",
            "Standard Error of F1 Score- Non Linear SVM: 0.0000\n",
            "Average Accuracy- Naive Bayes: 0.5228\n",
            "Standard Error of Accuracy- Naive Bayes: 0.0000\n",
            "Average F1 Score- Naive Bayes: 0.5214\n",
            "Standard Error of F1 Score- Naive Bayes: 0.0000\n",
            "\u001b[1m44/44\u001b[0m \u001b[32m━━━━━━━━━━━━━━━━━━━━\u001b[0m\u001b[37m\u001b[0m \u001b[1m1s\u001b[0m 11ms/step\n",
            "\u001b[1m19/19\u001b[0m \u001b[32m━━━━━━━━━━━━━━━━━━━━\u001b[0m\u001b[37m\u001b[0m \u001b[1m0s\u001b[0m 7ms/step\n",
            "Latent space saved to CSV files.\n"
          ]
        },
        {
          "name": "stderr",
          "output_type": "stream",
          "text": [
            "/usr/local/lib/python3.11/dist-packages/sklearn/base.py:1389: DataConversionWarning: A column-vector y was passed when a 1d array was expected. Please change the shape of y to (n_samples,), for example using ravel().\n",
            "  return fit_method(estimator, *args, **kwargs)\n",
            "/usr/local/lib/python3.11/dist-packages/keras/src/layers/core/dense.py:87: UserWarning: Do not pass an `input_shape`/`input_dim` argument to a layer. When using Sequential models, prefer using an `Input(shape)` object as the first layer in the model instead.\n",
            "  super().__init__(activity_regularizer=activity_regularizer, **kwargs)\n"
          ]
        },
        {
          "name": "stdout",
          "output_type": "stream",
          "text": [
            "\u001b[1m19/19\u001b[0m \u001b[32m━━━━━━━━━━━━━━━━━━━━\u001b[0m\u001b[37m\u001b[0m \u001b[1m0s\u001b[0m 6ms/step\n"
          ]
        },
        {
          "name": "stderr",
          "output_type": "stream",
          "text": [
            "/usr/local/lib/python3.11/dist-packages/sklearn/linear_model/_logistic.py:1247: FutureWarning: 'multi_class' was deprecated in version 1.5 and will be removed in 1.7. From then on, it will always use 'multinomial'. Leave it to its default value to avoid this warning.\n",
            "  warnings.warn(\n",
            "/usr/local/lib/python3.11/dist-packages/sklearn/utils/validation.py:1408: DataConversionWarning: A column-vector y was passed when a 1d array was expected. Please change the shape of y to (n_samples, ), for example using ravel().\n",
            "  y = column_or_1d(y, warn=True)\n",
            "/usr/local/lib/python3.11/dist-packages/sklearn/utils/validation.py:1408: DataConversionWarning: A column-vector y was passed when a 1d array was expected. Please change the shape of y to (n_samples, ), for example using ravel().\n",
            "  y = column_or_1d(y, warn=True)\n",
            "/usr/local/lib/python3.11/dist-packages/sklearn/utils/validation.py:1408: DataConversionWarning: A column-vector y was passed when a 1d array was expected. Please change the shape of y to (n_samples, ), for example using ravel().\n",
            "  y = column_or_1d(y, warn=True)\n"
          ]
        },
        {
          "name": "stdout",
          "output_type": "stream",
          "text": [
            "Results from C MM VAE ArchitectureAverage Accuracy- Random Forest: 0.8600\n",
            "Standard Error of Accuracy- Random Forest: 0.0000\n",
            "Average F1 Score- Random Forest: 0.8562\n",
            "Standard Error of F1 Score- Random Forest: 0.0000\n",
            "Average Accuracy- Neural Network: 0.9680\n",
            "Standard Error of Accuracy- Neural Network: 0.0000\n",
            "Average F1 Score- Neural Network: 0.9678\n",
            "Standard Error of F1 Score- Neural Network: 0.0000\n",
            "Average Accuracy- Logistic Regression: 0.9696\n",
            "Standard Error of Accuracy- Logistic Regression: 0.0000\n",
            "Average F1 Score- Logistic Regression: 0.9695\n",
            "Standard Error of F1 Score- Logistic Regression: 0.0000\n",
            "Average Accuracy- Linear SVM: 0.9949\n",
            "Standard Error of Accuracy- Linear SVM: 0.0000\n",
            "Average F1 Score- Linear SVM: 0.9949\n",
            "Standard Error of F1 Score- Linear SVM: 0.0000\n",
            "Average Accuracy- Non Linear SVM: 0.7943\n",
            "Standard Error of Accuracy- Non Linear SVM: 0.0000\n",
            "Average F1 Score- Non Linear SVM: 0.7663\n",
            "Standard Error of F1 Score- Non Linear SVM: 0.0000\n",
            "Average Accuracy- Naive Bayes: 0.7470\n",
            "Standard Error of Accuracy- Naive Bayes: 0.0000\n",
            "Average F1 Score- Naive Bayes: 0.7494\n",
            "Standard Error of F1 Score- Naive Bayes: 0.0000\n",
            "\u001b[1m44/44\u001b[0m \u001b[32m━━━━━━━━━━━━━━━━━━━━\u001b[0m\u001b[37m\u001b[0m \u001b[1m0s\u001b[0m 7ms/step\n",
            "\u001b[1m19/19\u001b[0m \u001b[32m━━━━━━━━━━━━━━━━━━━━\u001b[0m\u001b[37m\u001b[0m \u001b[1m0s\u001b[0m 5ms/step\n",
            "Latent space saved to CSV files.\n"
          ]
        },
        {
          "name": "stderr",
          "output_type": "stream",
          "text": [
            "/usr/local/lib/python3.11/dist-packages/sklearn/base.py:1389: DataConversionWarning: A column-vector y was passed when a 1d array was expected. Please change the shape of y to (n_samples,), for example using ravel().\n",
            "  return fit_method(estimator, *args, **kwargs)\n",
            "/usr/local/lib/python3.11/dist-packages/keras/src/layers/core/dense.py:87: UserWarning: Do not pass an `input_shape`/`input_dim` argument to a layer. When using Sequential models, prefer using an `Input(shape)` object as the first layer in the model instead.\n",
            "  super().__init__(activity_regularizer=activity_regularizer, **kwargs)\n"
          ]
        },
        {
          "name": "stdout",
          "output_type": "stream",
          "text": [
            "\u001b[1m19/19\u001b[0m \u001b[32m━━━━━━━━━━━━━━━━━━━━\u001b[0m\u001b[37m\u001b[0m \u001b[1m0s\u001b[0m 5ms/step\n"
          ]
        },
        {
          "name": "stderr",
          "output_type": "stream",
          "text": [
            "/usr/local/lib/python3.11/dist-packages/sklearn/linear_model/_logistic.py:1247: FutureWarning: 'multi_class' was deprecated in version 1.5 and will be removed in 1.7. From then on, it will always use 'multinomial'. Leave it to its default value to avoid this warning.\n",
            "  warnings.warn(\n",
            "/usr/local/lib/python3.11/dist-packages/sklearn/utils/validation.py:1408: DataConversionWarning: A column-vector y was passed when a 1d array was expected. Please change the shape of y to (n_samples, ), for example using ravel().\n",
            "  y = column_or_1d(y, warn=True)\n",
            "/usr/local/lib/python3.11/dist-packages/sklearn/utils/validation.py:1408: DataConversionWarning: A column-vector y was passed when a 1d array was expected. Please change the shape of y to (n_samples, ), for example using ravel().\n",
            "  y = column_or_1d(y, warn=True)\n",
            "/usr/local/lib/python3.11/dist-packages/sklearn/utils/validation.py:1408: DataConversionWarning: A column-vector y was passed when a 1d array was expected. Please change the shape of y to (n_samples, ), for example using ravel().\n",
            "  y = column_or_1d(y, warn=True)\n"
          ]
        },
        {
          "name": "stdout",
          "output_type": "stream",
          "text": [
            "Results from C XVAE Type 1 ArchitectureAverage Accuracy- Random Forest: 0.9106\n",
            "Standard Error of Accuracy- Random Forest: 0.0000\n",
            "Average F1 Score- Random Forest: 0.9100\n",
            "Standard Error of F1 Score- Random Forest: 0.0000\n",
            "Average Accuracy- Neural Network: 0.9798\n",
            "Standard Error of Accuracy- Neural Network: 0.0000\n",
            "Average F1 Score- Neural Network: 0.9802\n",
            "Standard Error of F1 Score- Neural Network: 0.0000\n",
            "Average Accuracy- Logistic Regression: 0.9966\n",
            "Standard Error of Accuracy- Logistic Regression: 0.0000\n",
            "Average F1 Score- Logistic Regression: 0.9966\n",
            "Standard Error of F1 Score- Logistic Regression: 0.0000\n",
            "Average Accuracy- Linear SVM: 1.0000\n",
            "Standard Error of Accuracy- Linear SVM: 0.0000\n",
            "Average F1 Score- Linear SVM: 1.0000\n",
            "Standard Error of F1 Score- Linear SVM: 0.0000\n",
            "Average Accuracy- Non Linear SVM: 0.9831\n",
            "Standard Error of Accuracy- Non Linear SVM: 0.0000\n",
            "Average F1 Score- Non Linear SVM: 0.9831\n",
            "Standard Error of F1 Score- Non Linear SVM: 0.0000\n",
            "Average Accuracy- Naive Bayes: 0.7976\n",
            "Standard Error of Accuracy- Naive Bayes: 0.0000\n",
            "Average F1 Score- Naive Bayes: 0.7995\n",
            "Standard Error of F1 Score- Naive Bayes: 0.0000\n",
            "\u001b[1m44/44\u001b[0m \u001b[32m━━━━━━━━━━━━━━━━━━━━\u001b[0m\u001b[37m\u001b[0m \u001b[1m1s\u001b[0m 13ms/step\n",
            "\u001b[1m19/19\u001b[0m \u001b[32m━━━━━━━━━━━━━━━━━━━━\u001b[0m\u001b[37m\u001b[0m \u001b[1m0s\u001b[0m 10ms/step\n",
            "Latent space saved to CSV files.\n"
          ]
        },
        {
          "name": "stderr",
          "output_type": "stream",
          "text": [
            "/usr/local/lib/python3.11/dist-packages/sklearn/base.py:1389: DataConversionWarning: A column-vector y was passed when a 1d array was expected. Please change the shape of y to (n_samples,), for example using ravel().\n",
            "  return fit_method(estimator, *args, **kwargs)\n",
            "/usr/local/lib/python3.11/dist-packages/keras/src/layers/core/dense.py:87: UserWarning: Do not pass an `input_shape`/`input_dim` argument to a layer. When using Sequential models, prefer using an `Input(shape)` object as the first layer in the model instead.\n",
            "  super().__init__(activity_regularizer=activity_regularizer, **kwargs)\n"
          ]
        },
        {
          "name": "stdout",
          "output_type": "stream",
          "text": [
            "\u001b[1m19/19\u001b[0m \u001b[32m━━━━━━━━━━━━━━━━━━━━\u001b[0m\u001b[37m\u001b[0m \u001b[1m0s\u001b[0m 7ms/step\n"
          ]
        },
        {
          "name": "stderr",
          "output_type": "stream",
          "text": [
            "/usr/local/lib/python3.11/dist-packages/sklearn/linear_model/_logistic.py:1247: FutureWarning: 'multi_class' was deprecated in version 1.5 and will be removed in 1.7. From then on, it will always use 'multinomial'. Leave it to its default value to avoid this warning.\n",
            "  warnings.warn(\n",
            "/usr/local/lib/python3.11/dist-packages/sklearn/utils/validation.py:1408: DataConversionWarning: A column-vector y was passed when a 1d array was expected. Please change the shape of y to (n_samples, ), for example using ravel().\n",
            "  y = column_or_1d(y, warn=True)\n",
            "/usr/local/lib/python3.11/dist-packages/sklearn/utils/validation.py:1408: DataConversionWarning: A column-vector y was passed when a 1d array was expected. Please change the shape of y to (n_samples, ), for example using ravel().\n",
            "  y = column_or_1d(y, warn=True)\n",
            "/usr/local/lib/python3.11/dist-packages/sklearn/utils/validation.py:1408: DataConversionWarning: A column-vector y was passed when a 1d array was expected. Please change the shape of y to (n_samples, ), for example using ravel().\n",
            "  y = column_or_1d(y, warn=True)\n"
          ]
        },
        {
          "name": "stdout",
          "output_type": "stream",
          "text": [
            "Results from XVAE ArchitectureAverage Accuracy- Random Forest: 0.6897\n",
            "Standard Error of Accuracy- Random Forest: 0.0000\n",
            "Average F1 Score- Random Forest: 0.6749\n",
            "Standard Error of F1 Score- Random Forest: 0.0000\n",
            "Average Accuracy- Neural Network: 0.6830\n",
            "Standard Error of Accuracy- Neural Network: 0.0000\n",
            "Average F1 Score- Neural Network: 0.6792\n",
            "Standard Error of F1 Score- Neural Network: 0.0000\n",
            "Average Accuracy- Logistic Regression: 0.7133\n",
            "Standard Error of Accuracy- Logistic Regression: 0.0000\n",
            "Average F1 Score- Logistic Regression: 0.7050\n",
            "Standard Error of F1 Score- Logistic Regression: 0.0000\n",
            "Average Accuracy- Linear SVM: 0.7099\n",
            "Standard Error of Accuracy- Linear SVM: 0.0000\n",
            "Average F1 Score- Linear SVM: 0.7055\n",
            "Standard Error of F1 Score- Linear SVM: 0.0000\n",
            "Average Accuracy- Non Linear SVM: 0.6374\n",
            "Standard Error of Accuracy- Non Linear SVM: 0.0000\n",
            "Average F1 Score- Non Linear SVM: 0.5939\n",
            "Standard Error of F1 Score- Non Linear SVM: 0.0000\n",
            "Average Accuracy- Naive Bayes: 0.6206\n",
            "Standard Error of Accuracy- Naive Bayes: 0.0000\n",
            "Average F1 Score- Naive Bayes: 0.6287\n",
            "Standard Error of F1 Score- Naive Bayes: 0.0000\n",
            "\u001b[1m44/44\u001b[0m \u001b[32m━━━━━━━━━━━━━━━━━━━━\u001b[0m\u001b[37m\u001b[0m \u001b[1m1s\u001b[0m 17ms/step\n",
            "\u001b[1m19/19\u001b[0m \u001b[32m━━━━━━━━━━━━━━━━━━━━\u001b[0m\u001b[37m\u001b[0m \u001b[1m0s\u001b[0m 14ms/step\n",
            "Latent space saved to CSV files.\n"
          ]
        },
        {
          "name": "stderr",
          "output_type": "stream",
          "text": [
            "/usr/local/lib/python3.11/dist-packages/sklearn/base.py:1389: DataConversionWarning: A column-vector y was passed when a 1d array was expected. Please change the shape of y to (n_samples,), for example using ravel().\n",
            "  return fit_method(estimator, *args, **kwargs)\n",
            "/usr/local/lib/python3.11/dist-packages/keras/src/layers/core/dense.py:87: UserWarning: Do not pass an `input_shape`/`input_dim` argument to a layer. When using Sequential models, prefer using an `Input(shape)` object as the first layer in the model instead.\n",
            "  super().__init__(activity_regularizer=activity_regularizer, **kwargs)\n"
          ]
        },
        {
          "name": "stdout",
          "output_type": "stream",
          "text": [
            "\u001b[1m19/19\u001b[0m \u001b[32m━━━━━━━━━━━━━━━━━━━━\u001b[0m\u001b[37m\u001b[0m \u001b[1m0s\u001b[0m 9ms/step\n"
          ]
        },
        {
          "name": "stderr",
          "output_type": "stream",
          "text": [
            "/usr/local/lib/python3.11/dist-packages/sklearn/linear_model/_logistic.py:1247: FutureWarning: 'multi_class' was deprecated in version 1.5 and will be removed in 1.7. From then on, it will always use 'multinomial'. Leave it to its default value to avoid this warning.\n",
            "  warnings.warn(\n",
            "/usr/local/lib/python3.11/dist-packages/sklearn/linear_model/_logistic.py:465: ConvergenceWarning: lbfgs failed to converge (status=1):\n",
            "STOP: TOTAL NO. OF ITERATIONS REACHED LIMIT.\n",
            "\n",
            "Increase the number of iterations (max_iter) or scale the data as shown in:\n",
            "    https://scikit-learn.org/stable/modules/preprocessing.html\n",
            "Please also refer to the documentation for alternative solver options:\n",
            "    https://scikit-learn.org/stable/modules/linear_model.html#logistic-regression\n",
            "  n_iter_i = _check_optimize_result(\n",
            "/usr/local/lib/python3.11/dist-packages/sklearn/utils/validation.py:1408: DataConversionWarning: A column-vector y was passed when a 1d array was expected. Please change the shape of y to (n_samples, ), for example using ravel().\n",
            "  y = column_or_1d(y, warn=True)\n",
            "/usr/local/lib/python3.11/dist-packages/sklearn/utils/validation.py:1408: DataConversionWarning: A column-vector y was passed when a 1d array was expected. Please change the shape of y to (n_samples, ), for example using ravel().\n",
            "  y = column_or_1d(y, warn=True)\n",
            "/usr/local/lib/python3.11/dist-packages/sklearn/utils/validation.py:1408: DataConversionWarning: A column-vector y was passed when a 1d array was expected. Please change the shape of y to (n_samples, ), for example using ravel().\n",
            "  y = column_or_1d(y, warn=True)\n"
          ]
        },
        {
          "name": "stdout",
          "output_type": "stream",
          "text": [
            "Results from MM VAE ArchitectureAverage Accuracy- Random Forest: 0.6661\n",
            "Standard Error of Accuracy- Random Forest: 0.0000\n",
            "Average F1 Score- Random Forest: 0.6459\n",
            "Standard Error of F1 Score- Random Forest: 0.0000\n",
            "Average Accuracy- Neural Network: 0.7032\n",
            "Standard Error of Accuracy- Neural Network: 0.0000\n",
            "Average F1 Score- Neural Network: 0.6968\n",
            "Standard Error of F1 Score- Neural Network: 0.0000\n",
            "Average Accuracy- Logistic Regression: 0.7099\n",
            "Standard Error of Accuracy- Logistic Regression: 0.0000\n",
            "Average F1 Score- Logistic Regression: 0.7028\n",
            "Standard Error of F1 Score- Logistic Regression: 0.0000\n",
            "Average Accuracy- Linear SVM: 0.7133\n",
            "Standard Error of Accuracy- Linear SVM: 0.0000\n",
            "Average F1 Score- Linear SVM: 0.7056\n",
            "Standard Error of F1 Score- Linear SVM: 0.0000\n",
            "Average Accuracy- Non Linear SVM: 0.5835\n",
            "Standard Error of Accuracy- Non Linear SVM: 0.0000\n",
            "Average F1 Score- Non Linear SVM: 0.5027\n",
            "Standard Error of F1 Score- Non Linear SVM: 0.0000\n",
            "Average Accuracy- Naive Bayes: 0.6206\n",
            "Standard Error of Accuracy- Naive Bayes: 0.0000\n",
            "Average F1 Score- Naive Bayes: 0.6294\n",
            "Standard Error of F1 Score- Naive Bayes: 0.0000\n",
            "\u001b[1m44/44\u001b[0m \u001b[32m━━━━━━━━━━━━━━━━━━━━\u001b[0m\u001b[37m\u001b[0m \u001b[1m0s\u001b[0m 6ms/step\n",
            "\u001b[1m19/19\u001b[0m \u001b[32m━━━━━━━━━━━━━━━━━━━━\u001b[0m\u001b[37m\u001b[0m \u001b[1m0s\u001b[0m 3ms/step \n",
            "Latent space saved to CSV files.\n"
          ]
        },
        {
          "name": "stderr",
          "output_type": "stream",
          "text": [
            "/usr/local/lib/python3.11/dist-packages/sklearn/base.py:1389: DataConversionWarning: A column-vector y was passed when a 1d array was expected. Please change the shape of y to (n_samples,), for example using ravel().\n",
            "  return fit_method(estimator, *args, **kwargs)\n",
            "/usr/local/lib/python3.11/dist-packages/keras/src/layers/core/dense.py:87: UserWarning: Do not pass an `input_shape`/`input_dim` argument to a layer. When using Sequential models, prefer using an `Input(shape)` object as the first layer in the model instead.\n",
            "  super().__init__(activity_regularizer=activity_regularizer, **kwargs)\n"
          ]
        },
        {
          "name": "stdout",
          "output_type": "stream",
          "text": [
            "\u001b[1m19/19\u001b[0m \u001b[32m━━━━━━━━━━━━━━━━━━━━\u001b[0m\u001b[37m\u001b[0m \u001b[1m0s\u001b[0m 10ms/step\n"
          ]
        },
        {
          "name": "stderr",
          "output_type": "stream",
          "text": [
            "/usr/local/lib/python3.11/dist-packages/sklearn/linear_model/_logistic.py:1247: FutureWarning: 'multi_class' was deprecated in version 1.5 and will be removed in 1.7. From then on, it will always use 'multinomial'. Leave it to its default value to avoid this warning.\n",
            "  warnings.warn(\n",
            "/usr/local/lib/python3.11/dist-packages/sklearn/utils/validation.py:1408: DataConversionWarning: A column-vector y was passed when a 1d array was expected. Please change the shape of y to (n_samples, ), for example using ravel().\n",
            "  y = column_or_1d(y, warn=True)\n",
            "/usr/local/lib/python3.11/dist-packages/sklearn/utils/validation.py:1408: DataConversionWarning: A column-vector y was passed when a 1d array was expected. Please change the shape of y to (n_samples, ), for example using ravel().\n",
            "  y = column_or_1d(y, warn=True)\n",
            "/usr/local/lib/python3.11/dist-packages/sklearn/utils/validation.py:1408: DataConversionWarning: A column-vector y was passed when a 1d array was expected. Please change the shape of y to (n_samples, ), for example using ravel().\n",
            "  y = column_or_1d(y, warn=True)\n"
          ]
        },
        {
          "name": "stdout",
          "output_type": "stream",
          "text": [
            "Results from CXVAE Architecture for Gene Expression datasetAverage Accuracy- Random Forest: 0.9258\n",
            "Standard Error of Accuracy- Random Forest: 0.0000\n",
            "Average F1 Score- Random Forest: 0.9238\n",
            "Standard Error of F1 Score- Random Forest: 0.0000\n",
            "Average Accuracy- Neural Network: 0.8364\n",
            "Standard Error of Accuracy- Neural Network: 0.0000\n",
            "Average F1 Score- Neural Network: 0.7997\n",
            "Standard Error of F1 Score- Neural Network: 0.0000\n",
            "Average Accuracy- Logistic Regression: 0.9292\n",
            "Standard Error of Accuracy- Logistic Regression: 0.0000\n",
            "Average F1 Score- Logistic Regression: 0.9270\n",
            "Standard Error of F1 Score- Logistic Regression: 0.0000\n",
            "Average Accuracy- Linear SVM: 0.9460\n",
            "Standard Error of Accuracy- Linear SVM: 0.0000\n",
            "Average F1 Score- Linear SVM: 0.9456\n",
            "Standard Error of F1 Score- Linear SVM: 0.0000\n",
            "Average Accuracy- Non Linear SVM: 0.9359\n",
            "Standard Error of Accuracy- Non Linear SVM: 0.0000\n",
            "Average F1 Score- Non Linear SVM: 0.9344\n",
            "Standard Error of F1 Score- Non Linear SVM: 0.0000\n",
            "Average Accuracy- Naive Bayes: 0.8347\n",
            "Standard Error of Accuracy- Naive Bayes: 0.0000\n",
            "Average F1 Score- Naive Bayes: 0.8328\n",
            "Standard Error of F1 Score- Naive Bayes: 0.0000\n"
          ]
        },
        {
          "name": "stderr",
          "output_type": "stream",
          "text": [
            "/usr/local/lib/python3.11/dist-packages/sklearn/base.py:1389: DataConversionWarning: A column-vector y was passed when a 1d array was expected. Please change the shape of y to (n_samples,), for example using ravel().\n",
            "  return fit_method(estimator, *args, **kwargs)\n",
            "/usr/local/lib/python3.11/dist-packages/keras/src/layers/core/dense.py:87: UserWarning: Do not pass an `input_shape`/`input_dim` argument to a layer. When using Sequential models, prefer using an `Input(shape)` object as the first layer in the model instead.\n",
            "  super().__init__(activity_regularizer=activity_regularizer, **kwargs)\n"
          ]
        },
        {
          "name": "stdout",
          "output_type": "stream",
          "text": [
            "\u001b[1m19/19\u001b[0m \u001b[32m━━━━━━━━━━━━━━━━━━━━\u001b[0m\u001b[37m\u001b[0m \u001b[1m0s\u001b[0m 8ms/step\n"
          ]
        },
        {
          "name": "stderr",
          "output_type": "stream",
          "text": [
            "/usr/local/lib/python3.11/dist-packages/sklearn/linear_model/_logistic.py:1247: FutureWarning: 'multi_class' was deprecated in version 1.5 and will be removed in 1.7. From then on, it will always use 'multinomial'. Leave it to its default value to avoid this warning.\n",
            "  warnings.warn(\n",
            "/usr/local/lib/python3.11/dist-packages/sklearn/linear_model/_logistic.py:465: ConvergenceWarning: lbfgs failed to converge (status=1):\n",
            "STOP: TOTAL NO. OF ITERATIONS REACHED LIMIT.\n",
            "\n",
            "Increase the number of iterations (max_iter) or scale the data as shown in:\n",
            "    https://scikit-learn.org/stable/modules/preprocessing.html\n",
            "Please also refer to the documentation for alternative solver options:\n",
            "    https://scikit-learn.org/stable/modules/linear_model.html#logistic-regression\n",
            "  n_iter_i = _check_optimize_result(\n",
            "/usr/local/lib/python3.11/dist-packages/sklearn/utils/validation.py:1408: DataConversionWarning: A column-vector y was passed when a 1d array was expected. Please change the shape of y to (n_samples, ), for example using ravel().\n",
            "  y = column_or_1d(y, warn=True)\n",
            "/usr/local/lib/python3.11/dist-packages/sklearn/utils/validation.py:1408: DataConversionWarning: A column-vector y was passed when a 1d array was expected. Please change the shape of y to (n_samples, ), for example using ravel().\n",
            "  y = column_or_1d(y, warn=True)\n",
            "/usr/local/lib/python3.11/dist-packages/sklearn/utils/validation.py:1408: DataConversionWarning: A column-vector y was passed when a 1d array was expected. Please change the shape of y to (n_samples, ), for example using ravel().\n",
            "  y = column_or_1d(y, warn=True)\n"
          ]
        },
        {
          "name": "stdout",
          "output_type": "stream",
          "text": [
            "Results from ConcatenationAverage Accuracy- Random Forest: 0.7369\n",
            "Standard Error of Accuracy- Random Forest: 0.0000\n",
            "Average F1 Score- Random Forest: 0.7229\n",
            "Standard Error of F1 Score- Random Forest: 0.0000\n",
            "Average Accuracy- Neural Network: 0.7066\n",
            "Standard Error of Accuracy- Neural Network: 0.0000\n",
            "Average F1 Score- Neural Network: 0.7028\n",
            "Standard Error of F1 Score- Neural Network: 0.0000\n",
            "Average Accuracy- Logistic Regression: 0.7454\n",
            "Standard Error of Accuracy- Logistic Regression: 0.0000\n",
            "Average F1 Score- Logistic Regression: 0.7436\n",
            "Standard Error of F1 Score- Logistic Regression: 0.0000\n",
            "Average Accuracy- Linear SVM: 0.7437\n",
            "Standard Error of Accuracy- Linear SVM: 0.0000\n",
            "Average F1 Score- Linear SVM: 0.7425\n",
            "Standard Error of F1 Score- Linear SVM: 0.0000\n",
            "Average Accuracy- Non Linear SVM: 0.7690\n",
            "Standard Error of Accuracy- Non Linear SVM: 0.0000\n",
            "Average F1 Score- Non Linear SVM: 0.7588\n",
            "Standard Error of F1 Score- Non Linear SVM: 0.0000\n",
            "Average Accuracy- Naive Bayes: 0.2698\n",
            "Standard Error of Accuracy- Naive Bayes: 0.0000\n",
            "Average F1 Score- Naive Bayes: 0.2344\n",
            "Standard Error of F1 Score- Naive Bayes: 0.0000\n"
          ]
        },
        {
          "name": "stderr",
          "output_type": "stream",
          "text": [
            "/usr/local/lib/python3.11/dist-packages/sklearn/base.py:1389: DataConversionWarning: A column-vector y was passed when a 1d array was expected. Please change the shape of y to (n_samples,), for example using ravel().\n",
            "  return fit_method(estimator, *args, **kwargs)\n",
            "/usr/local/lib/python3.11/dist-packages/keras/src/layers/core/dense.py:87: UserWarning: Do not pass an `input_shape`/`input_dim` argument to a layer. When using Sequential models, prefer using an `Input(shape)` object as the first layer in the model instead.\n",
            "  super().__init__(activity_regularizer=activity_regularizer, **kwargs)\n"
          ]
        },
        {
          "name": "stdout",
          "output_type": "stream",
          "text": [
            "\u001b[1m19/19\u001b[0m \u001b[32m━━━━━━━━━━━━━━━━━━━━\u001b[0m\u001b[37m\u001b[0m \u001b[1m0s\u001b[0m 9ms/step\n"
          ]
        },
        {
          "name": "stderr",
          "output_type": "stream",
          "text": [
            "/usr/local/lib/python3.11/dist-packages/sklearn/linear_model/_logistic.py:1247: FutureWarning: 'multi_class' was deprecated in version 1.5 and will be removed in 1.7. From then on, it will always use 'multinomial'. Leave it to its default value to avoid this warning.\n",
            "  warnings.warn(\n",
            "/usr/local/lib/python3.11/dist-packages/sklearn/linear_model/_logistic.py:465: ConvergenceWarning: lbfgs failed to converge (status=1):\n",
            "STOP: TOTAL NO. OF ITERATIONS REACHED LIMIT.\n",
            "\n",
            "Increase the number of iterations (max_iter) or scale the data as shown in:\n",
            "    https://scikit-learn.org/stable/modules/preprocessing.html\n",
            "Please also refer to the documentation for alternative solver options:\n",
            "    https://scikit-learn.org/stable/modules/linear_model.html#logistic-regression\n",
            "  n_iter_i = _check_optimize_result(\n",
            "/usr/local/lib/python3.11/dist-packages/sklearn/utils/validation.py:1408: DataConversionWarning: A column-vector y was passed when a 1d array was expected. Please change the shape of y to (n_samples, ), for example using ravel().\n",
            "  y = column_or_1d(y, warn=True)\n",
            "/usr/local/lib/python3.11/dist-packages/sklearn/utils/validation.py:1408: DataConversionWarning: A column-vector y was passed when a 1d array was expected. Please change the shape of y to (n_samples, ), for example using ravel().\n",
            "  y = column_or_1d(y, warn=True)\n",
            "/usr/local/lib/python3.11/dist-packages/sklearn/utils/validation.py:1408: DataConversionWarning: A column-vector y was passed when a 1d array was expected. Please change the shape of y to (n_samples, ), for example using ravel().\n",
            "  y = column_or_1d(y, warn=True)\n"
          ]
        },
        {
          "name": "stdout",
          "output_type": "stream",
          "text": [
            "Results from ConcatenationAverage Accuracy- Random Forest: 0.7369\n",
            "Standard Error of Accuracy- Random Forest: 0.0000\n",
            "Average F1 Score- Random Forest: 0.7229\n",
            "Standard Error of F1 Score- Random Forest: 0.0000\n",
            "Average Accuracy- Neural Network: 0.7066\n",
            "Standard Error of Accuracy- Neural Network: 0.0000\n",
            "Average F1 Score- Neural Network: 0.7028\n",
            "Standard Error of F1 Score- Neural Network: 0.0000\n",
            "Average Accuracy- Logistic Regression: 0.7454\n",
            "Standard Error of Accuracy- Logistic Regression: 0.0000\n",
            "Average F1 Score- Logistic Regression: 0.7436\n",
            "Standard Error of F1 Score- Logistic Regression: 0.0000\n",
            "Average Accuracy- Linear SVM: 0.7437\n",
            "Standard Error of Accuracy- Linear SVM: 0.0000\n",
            "Average F1 Score- Linear SVM: 0.7425\n",
            "Standard Error of F1 Score- Linear SVM: 0.0000\n",
            "Average Accuracy- Non Linear SVM: 0.7690\n",
            "Standard Error of Accuracy- Non Linear SVM: 0.0000\n",
            "Average F1 Score- Non Linear SVM: 0.7588\n",
            "Standard Error of F1 Score- Non Linear SVM: 0.0000\n",
            "Average Accuracy- Naive Bayes: 0.2698\n",
            "Standard Error of Accuracy- Naive Bayes: 0.0000\n",
            "Average F1 Score- Naive Bayes: 0.2344\n",
            "Standard Error of F1 Score- Naive Bayes: 0.0000\n"
          ]
        },
        {
          "name": "stderr",
          "output_type": "stream",
          "text": [
            "/usr/local/lib/python3.11/dist-packages/sklearn/base.py:1389: DataConversionWarning: A column-vector y was passed when a 1d array was expected. Please change the shape of y to (n_samples,), for example using ravel().\n",
            "  return fit_method(estimator, *args, **kwargs)\n",
            "/usr/local/lib/python3.11/dist-packages/keras/src/layers/core/dense.py:87: UserWarning: Do not pass an `input_shape`/`input_dim` argument to a layer. When using Sequential models, prefer using an `Input(shape)` object as the first layer in the model instead.\n",
            "  super().__init__(activity_regularizer=activity_regularizer, **kwargs)\n"
          ]
        },
        {
          "name": "stdout",
          "output_type": "stream",
          "text": [
            "\u001b[1m19/19\u001b[0m \u001b[32m━━━━━━━━━━━━━━━━━━━━\u001b[0m\u001b[37m\u001b[0m \u001b[1m0s\u001b[0m 9ms/step\n"
          ]
        },
        {
          "name": "stderr",
          "output_type": "stream",
          "text": [
            "/usr/local/lib/python3.11/dist-packages/sklearn/linear_model/_logistic.py:1247: FutureWarning: 'multi_class' was deprecated in version 1.5 and will be removed in 1.7. From then on, it will always use 'multinomial'. Leave it to its default value to avoid this warning.\n",
            "  warnings.warn(\n"
          ]
        }
      ],
      "source": [
        "import conditional_integration\n",
        "\n",
        "# Number of different training and testing datasets\n",
        "num = 1\n",
        "\n",
        "\n",
        "###########################################\n",
        "###########################################\n",
        "# Integrate 2 datasets with labels\n",
        "###########################################\n",
        "###########################################\n",
        "\n",
        "# Run the CXVAE Type 1\n",
        "results = conditional_integration.CXVAET1(\n",
        "    dataset1=\"clin_preprocessed.csv\",\n",
        "    dataset2=\"rna_preprocessed.csv\",\n",
        "    target =\"Y_PAM50.csv\",\n",
        "    n_runs=num,\n",
        "    input_type = 'PAM50',\n",
        "    labels_dim = 5,\n",
        "    num_hidden_vars = 16,\n",
        "    num_neurons= 64,\n",
        "    batch_size= 64\n",
        ")\n",
        "# Print the results\n",
        "for key, value in results.items():\n",
        "    print(f\"{key}: {value:.4f}\")\n",
        "\n",
        "\n",
        "# Run the CXVAE Type 2\n",
        "results = conditional_integration.CXVAET2(\n",
        "    dataset1=\"clin_preprocessed.csv\",\n",
        "    dataset2=\"rna_preprocessed.csv\",\n",
        "    target =\"Y_PAM50.csv\",\n",
        "    n_runs=num,\n",
        "    input_type = 'PAM50',\n",
        "    labels_dim = 5,\n",
        "    num_hidden_vars = 24,\n",
        "    num_neurons= 32,\n",
        "    batch_size= 64\n",
        ")\n",
        "# Print the results\n",
        "for key, value in results.items():\n",
        "    print(f\"{key}: {value:.4f}\")\n",
        "\n",
        "\n",
        "# Run the CMMVAE\n",
        "results = conditional_integration.CMMVAE(\n",
        "    dataset1=\"clin_preprocessed.csv\",\n",
        "    dataset2=\"rna_preprocessed.csv\",\n",
        "    target =\"Y_PAM50.csv\",\n",
        "    n_runs=num,\n",
        "    input_type = 'PAM50',\n",
        "    labels_dim = 5,\n",
        "    num_hidden_vars = 64,\n",
        "    num_neurons= 128,\n",
        "    batch_size= 64\n",
        ")\n",
        "# Print the results\n",
        "for key, value in results.items():\n",
        "    print(f\"{key}: {value:.4f}\")\n",
        "\n",
        "\n",
        "###########################################\n",
        "###########################################\n",
        "# Integrate 3 datasets\n",
        "###########################################\n",
        "###########################################\n",
        "\n",
        "# Run the Extended CXVAE  to integrate 3 datasets\n",
        "results = conditional_integration.EXTCXVAE(\n",
        "    dataset1=\"clin_preprocessed.csv\",\n",
        "    dataset2=\"rna_preprocessed.csv\",\n",
        "    dataset3=\"cna_preprocessed.csv\",\n",
        "    target =\"Y_PAM50.csv\",\n",
        "    n_runs=num,\n",
        "    input_type = 'PAM50',\n",
        "    labels_dim = 5,\n",
        "    num_hidden_vars = 32,\n",
        "    num_neurons= 64,\n",
        "    batch_size= 64\n",
        ")\n",
        "# Print the results\n",
        "for key, value in results.items():\n",
        "    print(f\"{key}: {value:.4f}\")\n",
        "\n",
        "# Run the Extended XVAE  to integrate 3 datasets\n",
        "results = conditional_integration.EXTXVAE(\n",
        "    dataset1=\"clin_preprocessed.csv\",\n",
        "    dataset2=\"rna_preprocessed.csv\",\n",
        "    dataset3=\"cna_preprocessed.csv\",\n",
        "    target =\"Y_PAM50.csv\",\n",
        "    n_runs=num,\n",
        "    input_type = 'PAM50',\n",
        "    labels_dim = 5,\n",
        "    num_hidden_vars = 64,\n",
        "    num_neurons= 256,\n",
        "    batch_size= 128\n",
        ")\n",
        "# Print the results\n",
        "for key, value in results.items():\n",
        "    print(f\"{key}: {value:.4f}\")\n",
        "\n",
        "###########################################\n",
        "###########################################\n",
        "# Integrate 2 datasets without lables\n",
        "###########################################\n",
        "###########################################\n",
        "\n",
        "# Run the XVAE\n",
        "results = conditional_integration.XVAE(\n",
        "    dataset1=\"clin_preprocessed.csv\",\n",
        "    dataset2=\"rna_preprocessed.csv\",\n",
        "    target =\"Y_PAM50.csv\",\n",
        "    n_runs=num,\n",
        "    input_type = 'PAM50',\n",
        "    labels_dim = 5,\n",
        "    num_hidden_vars = 128,\n",
        "    num_neurons= 512,\n",
        "    batch_size= 128\n",
        ")\n",
        "# Print the results\n",
        "for key, value in results.items():\n",
        "    print(f\"{key}: {value:.4f}\")\n",
        "\n",
        "\n",
        "\n",
        "# Run the MMVAE\n",
        "results = conditional_integration.MMVAE(\n",
        "    dataset1=\"clin_preprocessed.csv\",\n",
        "    dataset2=\"rna_preprocessed.csv\",\n",
        "    target =\"Y_PAM50.csv\",\n",
        "    n_runs=num,\n",
        "    input_type = 'PAM50',\n",
        "    labels_dim = 5,\n",
        "    num_hidden_vars = 256,\n",
        "    num_neurons= 512,\n",
        "    batch_size= 128\n",
        ")\n",
        "# Print the results\n",
        "for key, value in results.items():\n",
        "    print(f\"{key}: {value:.4f}\")\n",
        "\n",
        "\n",
        "###########################################\n",
        "###########################################\n",
        "# Apply single dataset to CVAE\n",
        "###########################################\n",
        "###########################################\n",
        "\n",
        "\n",
        "# Run the CXVAE single dataset\n",
        "results = conditional_integration.CXVAESD(\n",
        "    dataset=\"cna_preprocessed.csv\",\n",
        "    target =\"Y_PAM50.csv\",\n",
        "    n_runs=num,\n",
        "    input_type = 'PAM50',\n",
        "    labels_dim = 5,\n",
        "    num_hidden_vars = 8,\n",
        "    num_neurons= 64,\n",
        "    batch_size= 128\n",
        ")\n",
        "# Print the results\n",
        "for key, value in results.items():\n",
        "    print(f\"{key}: {value:.4f}\")\n",
        "\n",
        "\n",
        "###########################################\n",
        "###########################################\n",
        "# Integrate using traditional linear methods\n",
        "###########################################\n",
        "###########################################\n",
        "\n",
        "# Run the Concat\n",
        "results = conditional_integration.CONCAT(\n",
        "    dataset1=\"clin_preprocessed.csv\",\n",
        "    dataset2=\"rna_preprocessed.csv\",\n",
        "    target =\"Y_PAM50.csv\",\n",
        "    n_runs=num,\n",
        "    input_type = 'PAM50',\n",
        "    labels_dim = 5,\n",
        "    YColName = 'class'\n",
        ")\n",
        "\n",
        "# Print the results\n",
        "for key, value in results.items():\n",
        "    print(f\"{key}: {value:.4f}\")\n",
        "\n",
        "# Run the Concat\n",
        "results = conditional_integration.CONCAT(\n",
        "    dataset1=\"clin_preprocessed.csv\",\n",
        "    dataset2=\"rna_preprocessed.csv\",\n",
        "    target =\"Y_PAM50.csv\",\n",
        "    n_runs=num,\n",
        "    input_type = 'PAM50',\n",
        "    labels_dim = 5,\n",
        "    YColName = 'class'\n",
        ")\n",
        "\n",
        "# Print the results\n",
        "for key, value in results.items():\n",
        "    print(f\"{key}: {value:.4f}\")\n",
        "\n",
        "# Run the PCA\n",
        "results = conditional_integration.PCA(\n",
        "    dataset1=\"clin_preprocessed.csv\",\n",
        "    dataset2=\"rna_preprocessed.csv\",\n",
        "    target =\"Y_PAM50.csv\",\n",
        "    n_runs=num,\n",
        "    input_type = 'PAM50',\n",
        "    labels_dim = 5,\n",
        "    YColName = 'class'\n",
        ")\n",
        "\n",
        "# Print the results\n",
        "for key, value in results.items():\n",
        "    print(f\"{key}: {value:.4f}\")"
      ]
    }
  ],
  "metadata": {
    "colab": {
      "provenance": []
    },
    "kernelspec": {
      "display_name": "Python 3",
      "name": "python3"
    },
    "language_info": {
      "name": "python"
    }
  },
  "nbformat": 4,
  "nbformat_minor": 0
}
